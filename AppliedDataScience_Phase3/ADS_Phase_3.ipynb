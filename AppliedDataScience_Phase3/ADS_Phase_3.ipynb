{
 "cells": [
  {
   "cell_type": "markdown",
   "id": "a8f9cbe7",
   "metadata": {},
   "source": [
    "## Date: 17-10-2023"
   ]
  },
  {
   "cell_type": "markdown",
   "id": "951ece20",
   "metadata": {},
   "source": [
    "## Project Title: Electricity Price Prediction"
   ]
  },
  {
   "cell_type": "markdown",
   "id": "1a9486b0",
   "metadata": {},
   "source": [
    "## Team ID: 3879"
   ]
  },
  {
   "cell_type": "markdown",
   "id": "eda917b7",
   "metadata": {},
   "source": [
    "### Importing required packages"
   ]
  },
  {
   "cell_type": "code",
   "execution_count": 2,
   "id": "91ceeabe",
   "metadata": {},
   "outputs": [],
   "source": [
    "import pandas as pd\n",
    "import numpy as np\n",
    "from matplotlib import pyplot as plt\n",
    "import seaborn as sns"
   ]
  },
  {
   "cell_type": "markdown",
   "id": "905000eb",
   "metadata": {},
   "source": [
    "### Loading the dataset"
   ]
  },
  {
   "cell_type": "code",
   "execution_count": 4,
   "id": "763ef42e",
   "metadata": {
    "scrolled": false
   },
   "outputs": [
    {
     "name": "stderr",
     "output_type": "stream",
     "text": [
      "C:\\Users\\admin\\AppData\\Local\\Temp\\ipykernel_19672\\1839747831.py:1: DtypeWarning: Columns (9,10,11,14,15,16,17) have mixed types. Specify dtype option on import or set low_memory=False.\n",
      "  electricity = pd.read_csv(\"C:\\\\OneDrive\\\\Documents\\\\IBM Applied Data science\\\\electricity.csv\")\n"
     ]
    }
   ],
   "source": [
    "electricity = pd.read_csv(\"C:\\\\OneDrive\\\\Documents\\\\IBM Applied Data science\\\\electricity.csv\")"
   ]
  },
  {
   "cell_type": "markdown",
   "id": "c9b0030a",
   "metadata": {},
   "source": [
    "### Set the jupyter notebook to display the maximum columns "
   ]
  },
  {
   "cell_type": "code",
   "execution_count": 6,
   "id": "05f84297",
   "metadata": {},
   "outputs": [],
   "source": [
    "pd.options.display.max_columns = None"
   ]
  },
  {
   "cell_type": "code",
   "execution_count": 7,
   "id": "e8860752",
   "metadata": {},
   "outputs": [
    {
     "data": {
      "text/html": [
       "<div>\n",
       "<style scoped>\n",
       "    .dataframe tbody tr th:only-of-type {\n",
       "        vertical-align: middle;\n",
       "    }\n",
       "\n",
       "    .dataframe tbody tr th {\n",
       "        vertical-align: top;\n",
       "    }\n",
       "\n",
       "    .dataframe thead th {\n",
       "        text-align: right;\n",
       "    }\n",
       "</style>\n",
       "<table border=\"1\" class=\"dataframe\">\n",
       "  <thead>\n",
       "    <tr style=\"text-align: right;\">\n",
       "      <th></th>\n",
       "      <th>DateTime</th>\n",
       "      <th>Holiday</th>\n",
       "      <th>HolidayFlag</th>\n",
       "      <th>DayOfWeek</th>\n",
       "      <th>WeekOfYear</th>\n",
       "      <th>Day</th>\n",
       "      <th>Month</th>\n",
       "      <th>Year</th>\n",
       "      <th>PeriodOfDay</th>\n",
       "      <th>ForecastWindProduction</th>\n",
       "      <th>SystemLoadEA</th>\n",
       "      <th>SMPEA</th>\n",
       "      <th>ORKTemperature</th>\n",
       "      <th>ORKWindspeed</th>\n",
       "      <th>CO2Intensity</th>\n",
       "      <th>ActualWindProduction</th>\n",
       "      <th>SystemLoadEP2</th>\n",
       "      <th>SMPEP2</th>\n",
       "    </tr>\n",
       "  </thead>\n",
       "  <tbody>\n",
       "    <tr>\n",
       "      <th>0</th>\n",
       "      <td>01/11/2011 00:00</td>\n",
       "      <td>None</td>\n",
       "      <td>0</td>\n",
       "      <td>1</td>\n",
       "      <td>44</td>\n",
       "      <td>1</td>\n",
       "      <td>11</td>\n",
       "      <td>2011</td>\n",
       "      <td>0</td>\n",
       "      <td>315.31</td>\n",
       "      <td>3388.77</td>\n",
       "      <td>49.26</td>\n",
       "      <td>6.00</td>\n",
       "      <td>9.30</td>\n",
       "      <td>600.71</td>\n",
       "      <td>356.00</td>\n",
       "      <td>3159.60</td>\n",
       "      <td>54.32</td>\n",
       "    </tr>\n",
       "    <tr>\n",
       "      <th>1</th>\n",
       "      <td>01/11/2011 00:30</td>\n",
       "      <td>None</td>\n",
       "      <td>0</td>\n",
       "      <td>1</td>\n",
       "      <td>44</td>\n",
       "      <td>1</td>\n",
       "      <td>11</td>\n",
       "      <td>2011</td>\n",
       "      <td>1</td>\n",
       "      <td>321.80</td>\n",
       "      <td>3196.66</td>\n",
       "      <td>49.26</td>\n",
       "      <td>6.00</td>\n",
       "      <td>11.10</td>\n",
       "      <td>605.42</td>\n",
       "      <td>317.00</td>\n",
       "      <td>2973.01</td>\n",
       "      <td>54.23</td>\n",
       "    </tr>\n",
       "    <tr>\n",
       "      <th>2</th>\n",
       "      <td>01/11/2011 01:00</td>\n",
       "      <td>None</td>\n",
       "      <td>0</td>\n",
       "      <td>1</td>\n",
       "      <td>44</td>\n",
       "      <td>1</td>\n",
       "      <td>11</td>\n",
       "      <td>2011</td>\n",
       "      <td>2</td>\n",
       "      <td>328.57</td>\n",
       "      <td>3060.71</td>\n",
       "      <td>49.10</td>\n",
       "      <td>5.00</td>\n",
       "      <td>11.10</td>\n",
       "      <td>589.97</td>\n",
       "      <td>311.00</td>\n",
       "      <td>2834.00</td>\n",
       "      <td>54.23</td>\n",
       "    </tr>\n",
       "    <tr>\n",
       "      <th>3</th>\n",
       "      <td>01/11/2011 01:30</td>\n",
       "      <td>None</td>\n",
       "      <td>0</td>\n",
       "      <td>1</td>\n",
       "      <td>44</td>\n",
       "      <td>1</td>\n",
       "      <td>11</td>\n",
       "      <td>2011</td>\n",
       "      <td>3</td>\n",
       "      <td>335.60</td>\n",
       "      <td>2945.56</td>\n",
       "      <td>48.04</td>\n",
       "      <td>6.00</td>\n",
       "      <td>9.30</td>\n",
       "      <td>585.94</td>\n",
       "      <td>313.00</td>\n",
       "      <td>2725.99</td>\n",
       "      <td>53.47</td>\n",
       "    </tr>\n",
       "    <tr>\n",
       "      <th>4</th>\n",
       "      <td>01/11/2011 02:00</td>\n",
       "      <td>None</td>\n",
       "      <td>0</td>\n",
       "      <td>1</td>\n",
       "      <td>44</td>\n",
       "      <td>1</td>\n",
       "      <td>11</td>\n",
       "      <td>2011</td>\n",
       "      <td>4</td>\n",
       "      <td>342.90</td>\n",
       "      <td>2849.34</td>\n",
       "      <td>33.75</td>\n",
       "      <td>6.00</td>\n",
       "      <td>11.10</td>\n",
       "      <td>571.52</td>\n",
       "      <td>346.00</td>\n",
       "      <td>2655.64</td>\n",
       "      <td>39.87</td>\n",
       "    </tr>\n",
       "    <tr>\n",
       "      <th>...</th>\n",
       "      <td>...</td>\n",
       "      <td>...</td>\n",
       "      <td>...</td>\n",
       "      <td>...</td>\n",
       "      <td>...</td>\n",
       "      <td>...</td>\n",
       "      <td>...</td>\n",
       "      <td>...</td>\n",
       "      <td>...</td>\n",
       "      <td>...</td>\n",
       "      <td>...</td>\n",
       "      <td>...</td>\n",
       "      <td>...</td>\n",
       "      <td>...</td>\n",
       "      <td>...</td>\n",
       "      <td>...</td>\n",
       "      <td>...</td>\n",
       "      <td>...</td>\n",
       "    </tr>\n",
       "    <tr>\n",
       "      <th>38009</th>\n",
       "      <td>31/12/2013 21:30</td>\n",
       "      <td>New Year's Eve</td>\n",
       "      <td>1</td>\n",
       "      <td>1</td>\n",
       "      <td>1</td>\n",
       "      <td>31</td>\n",
       "      <td>12</td>\n",
       "      <td>2013</td>\n",
       "      <td>43</td>\n",
       "      <td>1179.14</td>\n",
       "      <td>3932.22</td>\n",
       "      <td>34.51</td>\n",
       "      <td>6.00</td>\n",
       "      <td>22.20</td>\n",
       "      <td>285.31</td>\n",
       "      <td>812.0</td>\n",
       "      <td>3692.95</td>\n",
       "      <td>42.45</td>\n",
       "    </tr>\n",
       "    <tr>\n",
       "      <th>38010</th>\n",
       "      <td>31/12/2013 22:00</td>\n",
       "      <td>New Year's Eve</td>\n",
       "      <td>1</td>\n",
       "      <td>1</td>\n",
       "      <td>1</td>\n",
       "      <td>31</td>\n",
       "      <td>12</td>\n",
       "      <td>2013</td>\n",
       "      <td>44</td>\n",
       "      <td>1152.01</td>\n",
       "      <td>3821.44</td>\n",
       "      <td>33.83</td>\n",
       "      <td>5.00</td>\n",
       "      <td>24.10</td>\n",
       "      <td>278.31</td>\n",
       "      <td>852.0</td>\n",
       "      <td>3571.0</td>\n",
       "      <td>33.83</td>\n",
       "    </tr>\n",
       "    <tr>\n",
       "      <th>38011</th>\n",
       "      <td>31/12/2013 22:30</td>\n",
       "      <td>New Year's Eve</td>\n",
       "      <td>1</td>\n",
       "      <td>1</td>\n",
       "      <td>1</td>\n",
       "      <td>31</td>\n",
       "      <td>12</td>\n",
       "      <td>2013</td>\n",
       "      <td>45</td>\n",
       "      <td>1123.67</td>\n",
       "      <td>3724.21</td>\n",
       "      <td>31.75</td>\n",
       "      <td>4.00</td>\n",
       "      <td>20.40</td>\n",
       "      <td>280.91</td>\n",
       "      <td>962.0</td>\n",
       "      <td>3460.29</td>\n",
       "      <td>31.75</td>\n",
       "    </tr>\n",
       "    <tr>\n",
       "      <th>38012</th>\n",
       "      <td>31/12/2013 23:00</td>\n",
       "      <td>New Year's Eve</td>\n",
       "      <td>1</td>\n",
       "      <td>1</td>\n",
       "      <td>1</td>\n",
       "      <td>31</td>\n",
       "      <td>12</td>\n",
       "      <td>2013</td>\n",
       "      <td>46</td>\n",
       "      <td>1094.24</td>\n",
       "      <td>3638.16</td>\n",
       "      <td>33.83</td>\n",
       "      <td>5.00</td>\n",
       "      <td>14.80</td>\n",
       "      <td>302.46</td>\n",
       "      <td>950.0</td>\n",
       "      <td>3563.99</td>\n",
       "      <td>50.6</td>\n",
       "    </tr>\n",
       "    <tr>\n",
       "      <th>38013</th>\n",
       "      <td>31/12/2013 23:30</td>\n",
       "      <td>New Year's Eve</td>\n",
       "      <td>1</td>\n",
       "      <td>1</td>\n",
       "      <td>1</td>\n",
       "      <td>31</td>\n",
       "      <td>12</td>\n",
       "      <td>2013</td>\n",
       "      <td>47</td>\n",
       "      <td>1064.0</td>\n",
       "      <td>3624.25</td>\n",
       "      <td>33.83</td>\n",
       "      <td>5.00</td>\n",
       "      <td>16.70</td>\n",
       "      <td>308.01</td>\n",
       "      <td>1020.0</td>\n",
       "      <td>3517.08</td>\n",
       "      <td>34.9</td>\n",
       "    </tr>\n",
       "  </tbody>\n",
       "</table>\n",
       "<p>38014 rows × 18 columns</p>\n",
       "</div>"
      ],
      "text/plain": [
       "               DateTime         Holiday  HolidayFlag  DayOfWeek  WeekOfYear  \\\n",
       "0      01/11/2011 00:00            None            0          1          44   \n",
       "1      01/11/2011 00:30            None            0          1          44   \n",
       "2      01/11/2011 01:00            None            0          1          44   \n",
       "3      01/11/2011 01:30            None            0          1          44   \n",
       "4      01/11/2011 02:00            None            0          1          44   \n",
       "...                 ...             ...          ...        ...         ...   \n",
       "38009  31/12/2013 21:30  New Year's Eve            1          1           1   \n",
       "38010  31/12/2013 22:00  New Year's Eve            1          1           1   \n",
       "38011  31/12/2013 22:30  New Year's Eve            1          1           1   \n",
       "38012  31/12/2013 23:00  New Year's Eve            1          1           1   \n",
       "38013  31/12/2013 23:30  New Year's Eve            1          1           1   \n",
       "\n",
       "       Day  Month  Year  PeriodOfDay ForecastWindProduction SystemLoadEA  \\\n",
       "0        1     11  2011            0                 315.31      3388.77   \n",
       "1        1     11  2011            1                 321.80      3196.66   \n",
       "2        1     11  2011            2                 328.57      3060.71   \n",
       "3        1     11  2011            3                 335.60      2945.56   \n",
       "4        1     11  2011            4                 342.90      2849.34   \n",
       "...    ...    ...   ...          ...                    ...          ...   \n",
       "38009   31     12  2013           43                1179.14      3932.22   \n",
       "38010   31     12  2013           44                1152.01      3821.44   \n",
       "38011   31     12  2013           45                1123.67      3724.21   \n",
       "38012   31     12  2013           46                1094.24      3638.16   \n",
       "38013   31     12  2013           47                 1064.0      3624.25   \n",
       "\n",
       "       SMPEA ORKTemperature ORKWindspeed CO2Intensity ActualWindProduction  \\\n",
       "0      49.26           6.00         9.30       600.71               356.00   \n",
       "1      49.26           6.00        11.10       605.42               317.00   \n",
       "2      49.10           5.00        11.10       589.97               311.00   \n",
       "3      48.04           6.00         9.30       585.94               313.00   \n",
       "4      33.75           6.00        11.10       571.52               346.00   \n",
       "...      ...            ...          ...          ...                  ...   \n",
       "38009  34.51           6.00        22.20       285.31                812.0   \n",
       "38010  33.83           5.00        24.10       278.31                852.0   \n",
       "38011  31.75           4.00        20.40       280.91                962.0   \n",
       "38012  33.83           5.00        14.80       302.46                950.0   \n",
       "38013  33.83           5.00        16.70       308.01               1020.0   \n",
       "\n",
       "      SystemLoadEP2 SMPEP2  \n",
       "0           3159.60  54.32  \n",
       "1           2973.01  54.23  \n",
       "2           2834.00  54.23  \n",
       "3           2725.99  53.47  \n",
       "4           2655.64  39.87  \n",
       "...             ...    ...  \n",
       "38009       3692.95  42.45  \n",
       "38010        3571.0  33.83  \n",
       "38011       3460.29  31.75  \n",
       "38012       3563.99   50.6  \n",
       "38013       3517.08   34.9  \n",
       "\n",
       "[38014 rows x 18 columns]"
      ]
     },
     "execution_count": 7,
     "metadata": {},
     "output_type": "execute_result"
    }
   ],
   "source": [
    "electricity"
   ]
  },
  {
   "cell_type": "markdown",
   "id": "0a9b918c",
   "metadata": {},
   "source": [
    "### Displaying top 5 Rows of data"
   ]
  },
  {
   "cell_type": "code",
   "execution_count": 8,
   "id": "f893c71d",
   "metadata": {},
   "outputs": [
    {
     "data": {
      "text/html": [
       "<div>\n",
       "<style scoped>\n",
       "    .dataframe tbody tr th:only-of-type {\n",
       "        vertical-align: middle;\n",
       "    }\n",
       "\n",
       "    .dataframe tbody tr th {\n",
       "        vertical-align: top;\n",
       "    }\n",
       "\n",
       "    .dataframe thead th {\n",
       "        text-align: right;\n",
       "    }\n",
       "</style>\n",
       "<table border=\"1\" class=\"dataframe\">\n",
       "  <thead>\n",
       "    <tr style=\"text-align: right;\">\n",
       "      <th></th>\n",
       "      <th>DateTime</th>\n",
       "      <th>Holiday</th>\n",
       "      <th>HolidayFlag</th>\n",
       "      <th>DayOfWeek</th>\n",
       "      <th>WeekOfYear</th>\n",
       "      <th>Day</th>\n",
       "      <th>Month</th>\n",
       "      <th>Year</th>\n",
       "      <th>PeriodOfDay</th>\n",
       "      <th>ForecastWindProduction</th>\n",
       "      <th>SystemLoadEA</th>\n",
       "      <th>SMPEA</th>\n",
       "      <th>ORKTemperature</th>\n",
       "      <th>ORKWindspeed</th>\n",
       "      <th>CO2Intensity</th>\n",
       "      <th>ActualWindProduction</th>\n",
       "      <th>SystemLoadEP2</th>\n",
       "      <th>SMPEP2</th>\n",
       "    </tr>\n",
       "  </thead>\n",
       "  <tbody>\n",
       "    <tr>\n",
       "      <th>0</th>\n",
       "      <td>01/11/2011 00:00</td>\n",
       "      <td>None</td>\n",
       "      <td>0</td>\n",
       "      <td>1</td>\n",
       "      <td>44</td>\n",
       "      <td>1</td>\n",
       "      <td>11</td>\n",
       "      <td>2011</td>\n",
       "      <td>0</td>\n",
       "      <td>315.31</td>\n",
       "      <td>3388.77</td>\n",
       "      <td>49.26</td>\n",
       "      <td>6.00</td>\n",
       "      <td>9.30</td>\n",
       "      <td>600.71</td>\n",
       "      <td>356.00</td>\n",
       "      <td>3159.60</td>\n",
       "      <td>54.32</td>\n",
       "    </tr>\n",
       "    <tr>\n",
       "      <th>1</th>\n",
       "      <td>01/11/2011 00:30</td>\n",
       "      <td>None</td>\n",
       "      <td>0</td>\n",
       "      <td>1</td>\n",
       "      <td>44</td>\n",
       "      <td>1</td>\n",
       "      <td>11</td>\n",
       "      <td>2011</td>\n",
       "      <td>1</td>\n",
       "      <td>321.80</td>\n",
       "      <td>3196.66</td>\n",
       "      <td>49.26</td>\n",
       "      <td>6.00</td>\n",
       "      <td>11.10</td>\n",
       "      <td>605.42</td>\n",
       "      <td>317.00</td>\n",
       "      <td>2973.01</td>\n",
       "      <td>54.23</td>\n",
       "    </tr>\n",
       "    <tr>\n",
       "      <th>2</th>\n",
       "      <td>01/11/2011 01:00</td>\n",
       "      <td>None</td>\n",
       "      <td>0</td>\n",
       "      <td>1</td>\n",
       "      <td>44</td>\n",
       "      <td>1</td>\n",
       "      <td>11</td>\n",
       "      <td>2011</td>\n",
       "      <td>2</td>\n",
       "      <td>328.57</td>\n",
       "      <td>3060.71</td>\n",
       "      <td>49.10</td>\n",
       "      <td>5.00</td>\n",
       "      <td>11.10</td>\n",
       "      <td>589.97</td>\n",
       "      <td>311.00</td>\n",
       "      <td>2834.00</td>\n",
       "      <td>54.23</td>\n",
       "    </tr>\n",
       "    <tr>\n",
       "      <th>3</th>\n",
       "      <td>01/11/2011 01:30</td>\n",
       "      <td>None</td>\n",
       "      <td>0</td>\n",
       "      <td>1</td>\n",
       "      <td>44</td>\n",
       "      <td>1</td>\n",
       "      <td>11</td>\n",
       "      <td>2011</td>\n",
       "      <td>3</td>\n",
       "      <td>335.60</td>\n",
       "      <td>2945.56</td>\n",
       "      <td>48.04</td>\n",
       "      <td>6.00</td>\n",
       "      <td>9.30</td>\n",
       "      <td>585.94</td>\n",
       "      <td>313.00</td>\n",
       "      <td>2725.99</td>\n",
       "      <td>53.47</td>\n",
       "    </tr>\n",
       "    <tr>\n",
       "      <th>4</th>\n",
       "      <td>01/11/2011 02:00</td>\n",
       "      <td>None</td>\n",
       "      <td>0</td>\n",
       "      <td>1</td>\n",
       "      <td>44</td>\n",
       "      <td>1</td>\n",
       "      <td>11</td>\n",
       "      <td>2011</td>\n",
       "      <td>4</td>\n",
       "      <td>342.90</td>\n",
       "      <td>2849.34</td>\n",
       "      <td>33.75</td>\n",
       "      <td>6.00</td>\n",
       "      <td>11.10</td>\n",
       "      <td>571.52</td>\n",
       "      <td>346.00</td>\n",
       "      <td>2655.64</td>\n",
       "      <td>39.87</td>\n",
       "    </tr>\n",
       "  </tbody>\n",
       "</table>\n",
       "</div>"
      ],
      "text/plain": [
       "           DateTime Holiday  HolidayFlag  DayOfWeek  WeekOfYear  Day  Month  \\\n",
       "0  01/11/2011 00:00    None            0          1          44    1     11   \n",
       "1  01/11/2011 00:30    None            0          1          44    1     11   \n",
       "2  01/11/2011 01:00    None            0          1          44    1     11   \n",
       "3  01/11/2011 01:30    None            0          1          44    1     11   \n",
       "4  01/11/2011 02:00    None            0          1          44    1     11   \n",
       "\n",
       "   Year  PeriodOfDay ForecastWindProduction SystemLoadEA  SMPEA  \\\n",
       "0  2011            0                 315.31      3388.77  49.26   \n",
       "1  2011            1                 321.80      3196.66  49.26   \n",
       "2  2011            2                 328.57      3060.71  49.10   \n",
       "3  2011            3                 335.60      2945.56  48.04   \n",
       "4  2011            4                 342.90      2849.34  33.75   \n",
       "\n",
       "  ORKTemperature ORKWindspeed CO2Intensity ActualWindProduction SystemLoadEP2  \\\n",
       "0           6.00         9.30       600.71               356.00       3159.60   \n",
       "1           6.00        11.10       605.42               317.00       2973.01   \n",
       "2           5.00        11.10       589.97               311.00       2834.00   \n",
       "3           6.00         9.30       585.94               313.00       2725.99   \n",
       "4           6.00        11.10       571.52               346.00       2655.64   \n",
       "\n",
       "  SMPEP2  \n",
       "0  54.32  \n",
       "1  54.23  \n",
       "2  54.23  \n",
       "3  53.47  \n",
       "4  39.87  "
      ]
     },
     "execution_count": 8,
     "metadata": {},
     "output_type": "execute_result"
    }
   ],
   "source": [
    "electricity.head()"
   ]
  },
  {
   "cell_type": "markdown",
   "id": "ea05d5ad",
   "metadata": {},
   "source": [
    "### Displaying last 5 rows of data"
   ]
  },
  {
   "cell_type": "code",
   "execution_count": 9,
   "id": "98e229de",
   "metadata": {},
   "outputs": [
    {
     "data": {
      "text/html": [
       "<div>\n",
       "<style scoped>\n",
       "    .dataframe tbody tr th:only-of-type {\n",
       "        vertical-align: middle;\n",
       "    }\n",
       "\n",
       "    .dataframe tbody tr th {\n",
       "        vertical-align: top;\n",
       "    }\n",
       "\n",
       "    .dataframe thead th {\n",
       "        text-align: right;\n",
       "    }\n",
       "</style>\n",
       "<table border=\"1\" class=\"dataframe\">\n",
       "  <thead>\n",
       "    <tr style=\"text-align: right;\">\n",
       "      <th></th>\n",
       "      <th>DateTime</th>\n",
       "      <th>Holiday</th>\n",
       "      <th>HolidayFlag</th>\n",
       "      <th>DayOfWeek</th>\n",
       "      <th>WeekOfYear</th>\n",
       "      <th>Day</th>\n",
       "      <th>Month</th>\n",
       "      <th>Year</th>\n",
       "      <th>PeriodOfDay</th>\n",
       "      <th>ForecastWindProduction</th>\n",
       "      <th>SystemLoadEA</th>\n",
       "      <th>SMPEA</th>\n",
       "      <th>ORKTemperature</th>\n",
       "      <th>ORKWindspeed</th>\n",
       "      <th>CO2Intensity</th>\n",
       "      <th>ActualWindProduction</th>\n",
       "      <th>SystemLoadEP2</th>\n",
       "      <th>SMPEP2</th>\n",
       "    </tr>\n",
       "  </thead>\n",
       "  <tbody>\n",
       "    <tr>\n",
       "      <th>38009</th>\n",
       "      <td>31/12/2013 21:30</td>\n",
       "      <td>New Year's Eve</td>\n",
       "      <td>1</td>\n",
       "      <td>1</td>\n",
       "      <td>1</td>\n",
       "      <td>31</td>\n",
       "      <td>12</td>\n",
       "      <td>2013</td>\n",
       "      <td>43</td>\n",
       "      <td>1179.14</td>\n",
       "      <td>3932.22</td>\n",
       "      <td>34.51</td>\n",
       "      <td>6.00</td>\n",
       "      <td>22.20</td>\n",
       "      <td>285.31</td>\n",
       "      <td>812.0</td>\n",
       "      <td>3692.95</td>\n",
       "      <td>42.45</td>\n",
       "    </tr>\n",
       "    <tr>\n",
       "      <th>38010</th>\n",
       "      <td>31/12/2013 22:00</td>\n",
       "      <td>New Year's Eve</td>\n",
       "      <td>1</td>\n",
       "      <td>1</td>\n",
       "      <td>1</td>\n",
       "      <td>31</td>\n",
       "      <td>12</td>\n",
       "      <td>2013</td>\n",
       "      <td>44</td>\n",
       "      <td>1152.01</td>\n",
       "      <td>3821.44</td>\n",
       "      <td>33.83</td>\n",
       "      <td>5.00</td>\n",
       "      <td>24.10</td>\n",
       "      <td>278.31</td>\n",
       "      <td>852.0</td>\n",
       "      <td>3571.0</td>\n",
       "      <td>33.83</td>\n",
       "    </tr>\n",
       "    <tr>\n",
       "      <th>38011</th>\n",
       "      <td>31/12/2013 22:30</td>\n",
       "      <td>New Year's Eve</td>\n",
       "      <td>1</td>\n",
       "      <td>1</td>\n",
       "      <td>1</td>\n",
       "      <td>31</td>\n",
       "      <td>12</td>\n",
       "      <td>2013</td>\n",
       "      <td>45</td>\n",
       "      <td>1123.67</td>\n",
       "      <td>3724.21</td>\n",
       "      <td>31.75</td>\n",
       "      <td>4.00</td>\n",
       "      <td>20.40</td>\n",
       "      <td>280.91</td>\n",
       "      <td>962.0</td>\n",
       "      <td>3460.29</td>\n",
       "      <td>31.75</td>\n",
       "    </tr>\n",
       "    <tr>\n",
       "      <th>38012</th>\n",
       "      <td>31/12/2013 23:00</td>\n",
       "      <td>New Year's Eve</td>\n",
       "      <td>1</td>\n",
       "      <td>1</td>\n",
       "      <td>1</td>\n",
       "      <td>31</td>\n",
       "      <td>12</td>\n",
       "      <td>2013</td>\n",
       "      <td>46</td>\n",
       "      <td>1094.24</td>\n",
       "      <td>3638.16</td>\n",
       "      <td>33.83</td>\n",
       "      <td>5.00</td>\n",
       "      <td>14.80</td>\n",
       "      <td>302.46</td>\n",
       "      <td>950.0</td>\n",
       "      <td>3563.99</td>\n",
       "      <td>50.6</td>\n",
       "    </tr>\n",
       "    <tr>\n",
       "      <th>38013</th>\n",
       "      <td>31/12/2013 23:30</td>\n",
       "      <td>New Year's Eve</td>\n",
       "      <td>1</td>\n",
       "      <td>1</td>\n",
       "      <td>1</td>\n",
       "      <td>31</td>\n",
       "      <td>12</td>\n",
       "      <td>2013</td>\n",
       "      <td>47</td>\n",
       "      <td>1064.0</td>\n",
       "      <td>3624.25</td>\n",
       "      <td>33.83</td>\n",
       "      <td>5.00</td>\n",
       "      <td>16.70</td>\n",
       "      <td>308.01</td>\n",
       "      <td>1020.0</td>\n",
       "      <td>3517.08</td>\n",
       "      <td>34.9</td>\n",
       "    </tr>\n",
       "  </tbody>\n",
       "</table>\n",
       "</div>"
      ],
      "text/plain": [
       "               DateTime         Holiday  HolidayFlag  DayOfWeek  WeekOfYear  \\\n",
       "38009  31/12/2013 21:30  New Year's Eve            1          1           1   \n",
       "38010  31/12/2013 22:00  New Year's Eve            1          1           1   \n",
       "38011  31/12/2013 22:30  New Year's Eve            1          1           1   \n",
       "38012  31/12/2013 23:00  New Year's Eve            1          1           1   \n",
       "38013  31/12/2013 23:30  New Year's Eve            1          1           1   \n",
       "\n",
       "       Day  Month  Year  PeriodOfDay ForecastWindProduction SystemLoadEA  \\\n",
       "38009   31     12  2013           43                1179.14      3932.22   \n",
       "38010   31     12  2013           44                1152.01      3821.44   \n",
       "38011   31     12  2013           45                1123.67      3724.21   \n",
       "38012   31     12  2013           46                1094.24      3638.16   \n",
       "38013   31     12  2013           47                 1064.0      3624.25   \n",
       "\n",
       "       SMPEA ORKTemperature ORKWindspeed CO2Intensity ActualWindProduction  \\\n",
       "38009  34.51           6.00        22.20       285.31                812.0   \n",
       "38010  33.83           5.00        24.10       278.31                852.0   \n",
       "38011  31.75           4.00        20.40       280.91                962.0   \n",
       "38012  33.83           5.00        14.80       302.46                950.0   \n",
       "38013  33.83           5.00        16.70       308.01               1020.0   \n",
       "\n",
       "      SystemLoadEP2 SMPEP2  \n",
       "38009       3692.95  42.45  \n",
       "38010        3571.0  33.83  \n",
       "38011       3460.29  31.75  \n",
       "38012       3563.99   50.6  \n",
       "38013       3517.08   34.9  "
      ]
     },
     "execution_count": 9,
     "metadata": {},
     "output_type": "execute_result"
    }
   ],
   "source": [
    "electricity.tail()"
   ]
  },
  {
   "cell_type": "markdown",
   "id": "22e5b7ac",
   "metadata": {},
   "source": [
    "### Shows number of rows and columns"
   ]
  },
  {
   "cell_type": "code",
   "execution_count": 10,
   "id": "ce2621de",
   "metadata": {},
   "outputs": [
    {
     "name": "stdout",
     "output_type": "stream",
     "text": [
      "Number of columns  18\n",
      "Number of rows  38014\n"
     ]
    }
   ],
   "source": [
    "print(\"Number of columns \",electricity.shape[1])\n",
    "print(\"Number of rows \",electricity.shape[0])"
   ]
  },
  {
   "cell_type": "markdown",
   "id": "628e78e5",
   "metadata": {},
   "source": [
    "### Getting basic information about the dataset"
   ]
  },
  {
   "cell_type": "code",
   "execution_count": 11,
   "id": "96a53524",
   "metadata": {},
   "outputs": [
    {
     "name": "stdout",
     "output_type": "stream",
     "text": [
      "<class 'pandas.core.frame.DataFrame'>\n",
      "RangeIndex: 38014 entries, 0 to 38013\n",
      "Data columns (total 18 columns):\n",
      " #   Column                  Non-Null Count  Dtype \n",
      "---  ------                  --------------  ----- \n",
      " 0   DateTime                38014 non-null  object\n",
      " 1   Holiday                 38014 non-null  object\n",
      " 2   HolidayFlag             38014 non-null  int64 \n",
      " 3   DayOfWeek               38014 non-null  int64 \n",
      " 4   WeekOfYear              38014 non-null  int64 \n",
      " 5   Day                     38014 non-null  int64 \n",
      " 6   Month                   38014 non-null  int64 \n",
      " 7   Year                    38014 non-null  int64 \n",
      " 8   PeriodOfDay             38014 non-null  int64 \n",
      " 9   ForecastWindProduction  38014 non-null  object\n",
      " 10  SystemLoadEA            38014 non-null  object\n",
      " 11  SMPEA                   38014 non-null  object\n",
      " 12  ORKTemperature          38014 non-null  object\n",
      " 13  ORKWindspeed            38014 non-null  object\n",
      " 14  CO2Intensity            38014 non-null  object\n",
      " 15  ActualWindProduction    38014 non-null  object\n",
      " 16  SystemLoadEP2           38014 non-null  object\n",
      " 17  SMPEP2                  38014 non-null  object\n",
      "dtypes: int64(7), object(11)\n",
      "memory usage: 5.2+ MB\n"
     ]
    }
   ],
   "source": [
    "electricity.info()"
   ]
  },
  {
   "cell_type": "markdown",
   "id": "a2b21781",
   "metadata": {},
   "source": [
    "### Data Exploration "
   ]
  },
  {
   "cell_type": "code",
   "execution_count": null,
   "id": "63f7bcbc",
   "metadata": {},
   "outputs": [],
   "source": [
    "#DateTime column"
   ]
  },
  {
   "cell_type": "code",
   "execution_count": 13,
   "id": "1469fa31",
   "metadata": {},
   "outputs": [
    {
     "data": {
      "text/plain": [
       "array(['01/11/2011 00:00', '01/11/2011 00:30', '01/11/2011 01:00', ...,\n",
       "       '31/12/2013 22:30', '31/12/2013 23:00', '31/12/2013 23:30'],\n",
       "      dtype=object)"
      ]
     },
     "execution_count": 13,
     "metadata": {},
     "output_type": "execute_result"
    }
   ],
   "source": [
    "electricity['DateTime'].unique()"
   ]
  },
  {
   "cell_type": "code",
   "execution_count": 14,
   "id": "7288a384",
   "metadata": {},
   "outputs": [
    {
     "data": {
      "text/plain": [
       "38014"
      ]
     },
     "execution_count": 14,
     "metadata": {},
     "output_type": "execute_result"
    }
   ],
   "source": [
    "electricity['DateTime'].nunique()"
   ]
  },
  {
   "cell_type": "code",
   "execution_count": 18,
   "id": "85f4ee00",
   "metadata": {},
   "outputs": [
    {
     "name": "stderr",
     "output_type": "stream",
     "text": [
      "C:\\Users\\admin\\AppData\\Local\\Temp\\ipykernel_19672\\3203971033.py:1: FutureWarning: Treating datetime data as categorical rather than numeric in `.describe` is deprecated and will be removed in a future version of pandas. Specify `datetime_is_numeric=True` to silence this warning and adopt the future behavior now.\n",
      "  pd.to_datetime(electricity['DateTime']).describe()\n"
     ]
    },
    {
     "data": {
      "text/plain": [
       "count                   38014\n",
       "unique                  38014\n",
       "top       2011-01-11 00:00:00\n",
       "freq                        1\n",
       "first     2011-01-11 00:00:00\n",
       "last      2013-12-31 23:30:00\n",
       "Name: DateTime, dtype: object"
      ]
     },
     "execution_count": 18,
     "metadata": {},
     "output_type": "execute_result"
    }
   ],
   "source": [
    "pd.to_datetime(electricity['DateTime']).describe()"
   ]
  },
  {
   "cell_type": "code",
   "execution_count": 20,
   "id": "e6eb5a15",
   "metadata": {
    "scrolled": true
   },
   "outputs": [
    {
     "data": {
      "text/plain": [
       "0    01/11/2011 00:00\n",
       "1    01/11/2011 00:30\n",
       "Name: DateTime, dtype: object"
      ]
     },
     "execution_count": 20,
     "metadata": {},
     "output_type": "execute_result"
    }
   ],
   "source": [
    "electricity['DateTime'].head(2)"
   ]
  },
  {
   "cell_type": "code",
   "execution_count": 22,
   "id": "0aa597c4",
   "metadata": {},
   "outputs": [],
   "source": [
    "#since our datetime columns has object format so we have convert into proper datatype format\n",
    "electricity['DateTime'] = pd.to_datetime(electricity['DateTime'])"
   ]
  },
  {
   "cell_type": "code",
   "execution_count": 23,
   "id": "9c4d5770",
   "metadata": {},
   "outputs": [
    {
     "data": {
      "text/html": [
       "<div>\n",
       "<style scoped>\n",
       "    .dataframe tbody tr th:only-of-type {\n",
       "        vertical-align: middle;\n",
       "    }\n",
       "\n",
       "    .dataframe tbody tr th {\n",
       "        vertical-align: top;\n",
       "    }\n",
       "\n",
       "    .dataframe thead th {\n",
       "        text-align: right;\n",
       "    }\n",
       "</style>\n",
       "<table border=\"1\" class=\"dataframe\">\n",
       "  <thead>\n",
       "    <tr style=\"text-align: right;\">\n",
       "      <th></th>\n",
       "      <th>DateTime</th>\n",
       "      <th>Holiday</th>\n",
       "      <th>HolidayFlag</th>\n",
       "      <th>DayOfWeek</th>\n",
       "      <th>WeekOfYear</th>\n",
       "      <th>Day</th>\n",
       "      <th>Month</th>\n",
       "      <th>Year</th>\n",
       "      <th>PeriodOfDay</th>\n",
       "      <th>ForecastWindProduction</th>\n",
       "      <th>SystemLoadEA</th>\n",
       "      <th>SMPEA</th>\n",
       "      <th>ORKTemperature</th>\n",
       "      <th>ORKWindspeed</th>\n",
       "      <th>CO2Intensity</th>\n",
       "      <th>ActualWindProduction</th>\n",
       "      <th>SystemLoadEP2</th>\n",
       "      <th>SMPEP2</th>\n",
       "    </tr>\n",
       "  </thead>\n",
       "  <tbody>\n",
       "    <tr>\n",
       "      <th>0</th>\n",
       "      <td>2011-01-11 00:00:00</td>\n",
       "      <td>None</td>\n",
       "      <td>0</td>\n",
       "      <td>1</td>\n",
       "      <td>44</td>\n",
       "      <td>1</td>\n",
       "      <td>11</td>\n",
       "      <td>2011</td>\n",
       "      <td>0</td>\n",
       "      <td>315.31</td>\n",
       "      <td>3388.77</td>\n",
       "      <td>49.26</td>\n",
       "      <td>6.00</td>\n",
       "      <td>9.30</td>\n",
       "      <td>600.71</td>\n",
       "      <td>356.00</td>\n",
       "      <td>3159.60</td>\n",
       "      <td>54.32</td>\n",
       "    </tr>\n",
       "    <tr>\n",
       "      <th>1</th>\n",
       "      <td>2011-01-11 00:30:00</td>\n",
       "      <td>None</td>\n",
       "      <td>0</td>\n",
       "      <td>1</td>\n",
       "      <td>44</td>\n",
       "      <td>1</td>\n",
       "      <td>11</td>\n",
       "      <td>2011</td>\n",
       "      <td>1</td>\n",
       "      <td>321.80</td>\n",
       "      <td>3196.66</td>\n",
       "      <td>49.26</td>\n",
       "      <td>6.00</td>\n",
       "      <td>11.10</td>\n",
       "      <td>605.42</td>\n",
       "      <td>317.00</td>\n",
       "      <td>2973.01</td>\n",
       "      <td>54.23</td>\n",
       "    </tr>\n",
       "  </tbody>\n",
       "</table>\n",
       "</div>"
      ],
      "text/plain": [
       "             DateTime Holiday  HolidayFlag  DayOfWeek  WeekOfYear  Day  Month  \\\n",
       "0 2011-01-11 00:00:00    None            0          1          44    1     11   \n",
       "1 2011-01-11 00:30:00    None            0          1          44    1     11   \n",
       "\n",
       "   Year  PeriodOfDay ForecastWindProduction SystemLoadEA  SMPEA  \\\n",
       "0  2011            0                 315.31      3388.77  49.26   \n",
       "1  2011            1                 321.80      3196.66  49.26   \n",
       "\n",
       "  ORKTemperature ORKWindspeed CO2Intensity ActualWindProduction SystemLoadEP2  \\\n",
       "0           6.00         9.30       600.71               356.00       3159.60   \n",
       "1           6.00        11.10       605.42               317.00       2973.01   \n",
       "\n",
       "  SMPEP2  \n",
       "0  54.32  \n",
       "1  54.23  "
      ]
     },
     "execution_count": 23,
     "metadata": {},
     "output_type": "execute_result"
    }
   ],
   "source": [
    "electricity.head(2)"
   ]
  },
  {
   "cell_type": "code",
   "execution_count": 26,
   "id": "aa46c9aa",
   "metadata": {},
   "outputs": [
    {
     "data": {
      "text/plain": [
       "dtype('<M8[ns]')"
      ]
     },
     "execution_count": 26,
     "metadata": {},
     "output_type": "execute_result"
    }
   ],
   "source": [
    "electricity['DateTime'].dtypes"
   ]
  },
  {
   "cell_type": "code",
   "execution_count": 27,
   "id": "1fd79587",
   "metadata": {},
   "outputs": [],
   "source": [
    "#before heading to other, we want to confirm the null values exists, relationship between each column with others."
   ]
  },
  {
   "cell_type": "markdown",
   "id": "36bfd042",
   "metadata": {},
   "source": [
    "### Checking null values presence"
   ]
  },
  {
   "cell_type": "code",
   "execution_count": 28,
   "id": "06d07a23",
   "metadata": {},
   "outputs": [
    {
     "data": {
      "text/plain": [
       "DateTime                  0\n",
       "Holiday                   0\n",
       "HolidayFlag               0\n",
       "DayOfWeek                 0\n",
       "WeekOfYear                0\n",
       "Day                       0\n",
       "Month                     0\n",
       "Year                      0\n",
       "PeriodOfDay               0\n",
       "ForecastWindProduction    0\n",
       "SystemLoadEA              0\n",
       "SMPEA                     0\n",
       "ORKTemperature            0\n",
       "ORKWindspeed              0\n",
       "CO2Intensity              0\n",
       "ActualWindProduction      0\n",
       "SystemLoadEP2             0\n",
       "SMPEP2                    0\n",
       "dtype: int64"
      ]
     },
     "execution_count": 28,
     "metadata": {},
     "output_type": "execute_result"
    }
   ],
   "source": [
    "electricity.isnull().sum()"
   ]
  },
  {
   "cell_type": "markdown",
   "id": "8a9b9769",
   "metadata": {},
   "source": [
    "### Finding relationship each column using heatmap"
   ]
  },
  {
   "cell_type": "code",
   "execution_count": 41,
   "id": "68d6844c",
   "metadata": {},
   "outputs": [
    {
     "data": {
      "image/png": "[encoded data removed]",
      "text/plain": [
       "<Figure size 700x500 with 2 Axes>"
      ]
     },
     "metadata": {},
     "output_type": "display_data"
    }
   ],
   "source": [
    "plt.figure(figsize=(7,5))\n",
    "relationship = electricity.corr(method='pearson')\n",
    "sns.heatmap(relationship,annot=True,cmap='coolwarm')\n",
    "plt.show()"
   ]
  }
 ],
 "metadata": {
  "kernelspec": {
   "display_name": "Python 3 (ipykernel)",
   "language": "python",
   "name": "python3"
  },
  "language_info": {
   "codemirror_mode": {
    "name": "ipython",
    "version": 3
   },
   "file_extension": ".py",
   "mimetype": "text/x-python",
   "name": "python",
   "nbconvert_exporter": "python",
   "pygments_lexer": "ipython3",
   "version": "3.9.13"
  }
 },
 "nbformat": 4,
 "nbformat_minor": 5
}
