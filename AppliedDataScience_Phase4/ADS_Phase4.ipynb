{
 "cells": [
  {
   "cell_type": "markdown",
   "id": "a8f9cbe7",
   "metadata": {},
   "source": [
    "## Date: 17-10-2023"
   ]
  },
  {
   "cell_type": "markdown",
   "id": "951ece20",
   "metadata": {},
   "source": [
    "## Project Title: Electricity Price Prediction"
   ]
  },
  {
   "cell_type": "markdown",
   "id": "1a9486b0",
   "metadata": {},
   "source": [
    "## Team ID: 3879"
   ]
  },
  {
   "cell_type": "markdown",
   "id": "eda917b7",
   "metadata": {},
   "source": [
    "### Importing required packages"
   ]
  },
  {
   "cell_type": "code",
   "execution_count": 33,
   "id": "91ceeabe",
   "metadata": {},
   "outputs": [],
   "source": [
    "import pandas as pd\n",
    "import numpy as np\n",
    "from matplotlib import pyplot as plt\n",
    "import seaborn as sns"
   ]
  },
  {
   "cell_type": "markdown",
   "id": "905000eb",
   "metadata": {},
   "source": [
    "### Loading the dataset"
   ]
  },
  {
   "cell_type": "code",
   "execution_count": 34,
   "id": "763ef42e",
   "metadata": {
    "scrolled": false
   },
   "outputs": [
    {
     "name": "stderr",
     "output_type": "stream",
     "text": [
      "C:\\Users\\Dell\\AppData\\Local\\Temp\\ipykernel_19188\\1120975176.py:1: DtypeWarning: Columns (9,10,11,14,15,16,17) have mixed types. Specify dtype option on import or set low_memory=False.\n",
      "  electricity = pd.read_csv(r\"C:\\Users\\Dell\\Pictures\\Camera Roll\\electricity.csv\")\n"
     ]
    }
   ],
   "source": [
    "electricity = pd.read_csv(r\"C:\\Users\\Dell\\Pictures\\Camera Roll\\electricity.csv\")"
   ]
  },
  {
   "cell_type": "markdown",
   "id": "c9b0030a",
   "metadata": {},
   "source": [
    "### Set the jupyter notebook to display the maximum columns "
   ]
  },
  {
   "cell_type": "code",
   "execution_count": 35,
   "id": "05f84297",
   "metadata": {},
   "outputs": [],
   "source": [
    "pd.options.display.max_columns = None"
   ]
  },
  {
   "cell_type": "code",
   "execution_count": 36,
   "id": "e8860752",
   "metadata": {},
   "outputs": [
    {
     "data": {
      "text/html": [
       "<div>\n",
       "<style scoped>\n",
       "    .dataframe tbody tr th:only-of-type {\n",
       "        vertical-align: middle;\n",
       "    }\n",
       "\n",
       "    .dataframe tbody tr th {\n",
       "        vertical-align: top;\n",
       "    }\n",
       "\n",
       "    .dataframe thead th {\n",
       "        text-align: right;\n",
       "    }\n",
       "</style>\n",
       "<table border=\"1\" class=\"dataframe\">\n",
       "  <thead>\n",
       "    <tr style=\"text-align: right;\">\n",
       "      <th></th>\n",
       "      <th>DateTime</th>\n",
       "      <th>Holiday</th>\n",
       "      <th>HolidayFlag</th>\n",
       "      <th>DayOfWeek</th>\n",
       "      <th>WeekOfYear</th>\n",
       "      <th>Day</th>\n",
       "      <th>Month</th>\n",
       "      <th>Year</th>\n",
       "      <th>PeriodOfDay</th>\n",
       "      <th>ForecastWindProduction</th>\n",
       "      <th>SystemLoadEA</th>\n",
       "      <th>SMPEA</th>\n",
       "      <th>ORKTemperature</th>\n",
       "      <th>ORKWindspeed</th>\n",
       "      <th>CO2Intensity</th>\n",
       "      <th>ActualWindProduction</th>\n",
       "      <th>SystemLoadEP2</th>\n",
       "      <th>SMPEP2</th>\n",
       "    </tr>\n",
       "  </thead>\n",
       "  <tbody>\n",
       "    <tr>\n",
       "      <th>0</th>\n",
       "      <td>01/11/2011 00:00</td>\n",
       "      <td>None</td>\n",
       "      <td>0</td>\n",
       "      <td>1</td>\n",
       "      <td>44</td>\n",
       "      <td>1</td>\n",
       "      <td>11</td>\n",
       "      <td>2011</td>\n",
       "      <td>0</td>\n",
       "      <td>315.31</td>\n",
       "      <td>3388.77</td>\n",
       "      <td>49.26</td>\n",
       "      <td>6.00</td>\n",
       "      <td>9.30</td>\n",
       "      <td>600.71</td>\n",
       "      <td>356.00</td>\n",
       "      <td>3159.60</td>\n",
       "      <td>54.32</td>\n",
       "    </tr>\n",
       "    <tr>\n",
       "      <th>1</th>\n",
       "      <td>01/11/2011 00:30</td>\n",
       "      <td>None</td>\n",
       "      <td>0</td>\n",
       "      <td>1</td>\n",
       "      <td>44</td>\n",
       "      <td>1</td>\n",
       "      <td>11</td>\n",
       "      <td>2011</td>\n",
       "      <td>1</td>\n",
       "      <td>321.80</td>\n",
       "      <td>3196.66</td>\n",
       "      <td>49.26</td>\n",
       "      <td>6.00</td>\n",
       "      <td>11.10</td>\n",
       "      <td>605.42</td>\n",
       "      <td>317.00</td>\n",
       "      <td>2973.01</td>\n",
       "      <td>54.23</td>\n",
       "    </tr>\n",
       "    <tr>\n",
       "      <th>2</th>\n",
       "      <td>01/11/2011 01:00</td>\n",
       "      <td>None</td>\n",
       "      <td>0</td>\n",
       "      <td>1</td>\n",
       "      <td>44</td>\n",
       "      <td>1</td>\n",
       "      <td>11</td>\n",
       "      <td>2011</td>\n",
       "      <td>2</td>\n",
       "      <td>328.57</td>\n",
       "      <td>3060.71</td>\n",
       "      <td>49.10</td>\n",
       "      <td>5.00</td>\n",
       "      <td>11.10</td>\n",
       "      <td>589.97</td>\n",
       "      <td>311.00</td>\n",
       "      <td>2834.00</td>\n",
       "      <td>54.23</td>\n",
       "    </tr>\n",
       "    <tr>\n",
       "      <th>3</th>\n",
       "      <td>01/11/2011 01:30</td>\n",
       "      <td>None</td>\n",
       "      <td>0</td>\n",
       "      <td>1</td>\n",
       "      <td>44</td>\n",
       "      <td>1</td>\n",
       "      <td>11</td>\n",
       "      <td>2011</td>\n",
       "      <td>3</td>\n",
       "      <td>335.60</td>\n",
       "      <td>2945.56</td>\n",
       "      <td>48.04</td>\n",
       "      <td>6.00</td>\n",
       "      <td>9.30</td>\n",
       "      <td>585.94</td>\n",
       "      <td>313.00</td>\n",
       "      <td>2725.99</td>\n",
       "      <td>53.47</td>\n",
       "    </tr>\n",
       "    <tr>\n",
       "      <th>4</th>\n",
       "      <td>01/11/2011 02:00</td>\n",
       "      <td>None</td>\n",
       "      <td>0</td>\n",
       "      <td>1</td>\n",
       "      <td>44</td>\n",
       "      <td>1</td>\n",
       "      <td>11</td>\n",
       "      <td>2011</td>\n",
       "      <td>4</td>\n",
       "      <td>342.90</td>\n",
       "      <td>2849.34</td>\n",
       "      <td>33.75</td>\n",
       "      <td>6.00</td>\n",
       "      <td>11.10</td>\n",
       "      <td>571.52</td>\n",
       "      <td>346.00</td>\n",
       "      <td>2655.64</td>\n",
       "      <td>39.87</td>\n",
       "    </tr>\n",
       "    <tr>\n",
       "      <th>...</th>\n",
       "      <td>...</td>\n",
       "      <td>...</td>\n",
       "      <td>...</td>\n",
       "      <td>...</td>\n",
       "      <td>...</td>\n",
       "      <td>...</td>\n",
       "      <td>...</td>\n",
       "      <td>...</td>\n",
       "      <td>...</td>\n",
       "      <td>...</td>\n",
       "      <td>...</td>\n",
       "      <td>...</td>\n",
       "      <td>...</td>\n",
       "      <td>...</td>\n",
       "      <td>...</td>\n",
       "      <td>...</td>\n",
       "      <td>...</td>\n",
       "      <td>...</td>\n",
       "    </tr>\n",
       "    <tr>\n",
       "      <th>38009</th>\n",
       "      <td>31/12/2013 21:30</td>\n",
       "      <td>New Year's Eve</td>\n",
       "      <td>1</td>\n",
       "      <td>1</td>\n",
       "      <td>1</td>\n",
       "      <td>31</td>\n",
       "      <td>12</td>\n",
       "      <td>2013</td>\n",
       "      <td>43</td>\n",
       "      <td>1179.14</td>\n",
       "      <td>3932.22</td>\n",
       "      <td>34.51</td>\n",
       "      <td>6.00</td>\n",
       "      <td>22.20</td>\n",
       "      <td>285.31</td>\n",
       "      <td>812.0</td>\n",
       "      <td>3692.95</td>\n",
       "      <td>42.45</td>\n",
       "    </tr>\n",
       "    <tr>\n",
       "      <th>38010</th>\n",
       "      <td>31/12/2013 22:00</td>\n",
       "      <td>New Year's Eve</td>\n",
       "      <td>1</td>\n",
       "      <td>1</td>\n",
       "      <td>1</td>\n",
       "      <td>31</td>\n",
       "      <td>12</td>\n",
       "      <td>2013</td>\n",
       "      <td>44</td>\n",
       "      <td>1152.01</td>\n",
       "      <td>3821.44</td>\n",
       "      <td>33.83</td>\n",
       "      <td>5.00</td>\n",
       "      <td>24.10</td>\n",
       "      <td>278.31</td>\n",
       "      <td>852.0</td>\n",
       "      <td>3571.0</td>\n",
       "      <td>33.83</td>\n",
       "    </tr>\n",
       "    <tr>\n",
       "      <th>38011</th>\n",
       "      <td>31/12/2013 22:30</td>\n",
       "      <td>New Year's Eve</td>\n",
       "      <td>1</td>\n",
       "      <td>1</td>\n",
       "      <td>1</td>\n",
       "      <td>31</td>\n",
       "      <td>12</td>\n",
       "      <td>2013</td>\n",
       "      <td>45</td>\n",
       "      <td>1123.67</td>\n",
       "      <td>3724.21</td>\n",
       "      <td>31.75</td>\n",
       "      <td>4.00</td>\n",
       "      <td>20.40</td>\n",
       "      <td>280.91</td>\n",
       "      <td>962.0</td>\n",
       "      <td>3460.29</td>\n",
       "      <td>31.75</td>\n",
       "    </tr>\n",
       "    <tr>\n",
       "      <th>38012</th>\n",
       "      <td>31/12/2013 23:00</td>\n",
       "      <td>New Year's Eve</td>\n",
       "      <td>1</td>\n",
       "      <td>1</td>\n",
       "      <td>1</td>\n",
       "      <td>31</td>\n",
       "      <td>12</td>\n",
       "      <td>2013</td>\n",
       "      <td>46</td>\n",
       "      <td>1094.24</td>\n",
       "      <td>3638.16</td>\n",
       "      <td>33.83</td>\n",
       "      <td>5.00</td>\n",
       "      <td>14.80</td>\n",
       "      <td>302.46</td>\n",
       "      <td>950.0</td>\n",
       "      <td>3563.99</td>\n",
       "      <td>50.6</td>\n",
       "    </tr>\n",
       "    <tr>\n",
       "      <th>38013</th>\n",
       "      <td>31/12/2013 23:30</td>\n",
       "      <td>New Year's Eve</td>\n",
       "      <td>1</td>\n",
       "      <td>1</td>\n",
       "      <td>1</td>\n",
       "      <td>31</td>\n",
       "      <td>12</td>\n",
       "      <td>2013</td>\n",
       "      <td>47</td>\n",
       "      <td>1064.0</td>\n",
       "      <td>3624.25</td>\n",
       "      <td>33.83</td>\n",
       "      <td>5.00</td>\n",
       "      <td>16.70</td>\n",
       "      <td>308.01</td>\n",
       "      <td>1020.0</td>\n",
       "      <td>3517.08</td>\n",
       "      <td>34.9</td>\n",
       "    </tr>\n",
       "  </tbody>\n",
       "</table>\n",
       "<p>38014 rows × 18 columns</p>\n",
       "</div>"
      ],
      "text/plain": [
       "               DateTime         Holiday  HolidayFlag  DayOfWeek  WeekOfYear  \\\n",
       "0      01/11/2011 00:00            None            0          1          44   \n",
       "1      01/11/2011 00:30            None            0          1          44   \n",
       "2      01/11/2011 01:00            None            0          1          44   \n",
       "3      01/11/2011 01:30            None            0          1          44   \n",
       "4      01/11/2011 02:00            None            0          1          44   \n",
       "...                 ...             ...          ...        ...         ...   \n",
       "38009  31/12/2013 21:30  New Year's Eve            1          1           1   \n",
       "38010  31/12/2013 22:00  New Year's Eve            1          1           1   \n",
       "38011  31/12/2013 22:30  New Year's Eve            1          1           1   \n",
       "38012  31/12/2013 23:00  New Year's Eve            1          1           1   \n",
       "38013  31/12/2013 23:30  New Year's Eve            1          1           1   \n",
       "\n",
       "       Day  Month  Year  PeriodOfDay ForecastWindProduction SystemLoadEA  \\\n",
       "0        1     11  2011            0                 315.31      3388.77   \n",
       "1        1     11  2011            1                 321.80      3196.66   \n",
       "2        1     11  2011            2                 328.57      3060.71   \n",
       "3        1     11  2011            3                 335.60      2945.56   \n",
       "4        1     11  2011            4                 342.90      2849.34   \n",
       "...    ...    ...   ...          ...                    ...          ...   \n",
       "38009   31     12  2013           43                1179.14      3932.22   \n",
       "38010   31     12  2013           44                1152.01      3821.44   \n",
       "38011   31     12  2013           45                1123.67      3724.21   \n",
       "38012   31     12  2013           46                1094.24      3638.16   \n",
       "38013   31     12  2013           47                 1064.0      3624.25   \n",
       "\n",
       "       SMPEA ORKTemperature ORKWindspeed CO2Intensity ActualWindProduction  \\\n",
       "0      49.26           6.00         9.30       600.71               356.00   \n",
       "1      49.26           6.00        11.10       605.42               317.00   \n",
       "2      49.10           5.00        11.10       589.97               311.00   \n",
       "3      48.04           6.00         9.30       585.94               313.00   \n",
       "4      33.75           6.00        11.10       571.52               346.00   \n",
       "...      ...            ...          ...          ...                  ...   \n",
       "38009  34.51           6.00        22.20       285.31                812.0   \n",
       "38010  33.83           5.00        24.10       278.31                852.0   \n",
       "38011  31.75           4.00        20.40       280.91                962.0   \n",
       "38012  33.83           5.00        14.80       302.46                950.0   \n",
       "38013  33.83           5.00        16.70       308.01               1020.0   \n",
       "\n",
       "      SystemLoadEP2 SMPEP2  \n",
       "0           3159.60  54.32  \n",
       "1           2973.01  54.23  \n",
       "2           2834.00  54.23  \n",
       "3           2725.99  53.47  \n",
       "4           2655.64  39.87  \n",
       "...             ...    ...  \n",
       "38009       3692.95  42.45  \n",
       "38010        3571.0  33.83  \n",
       "38011       3460.29  31.75  \n",
       "38012       3563.99   50.6  \n",
       "38013       3517.08   34.9  \n",
       "\n",
       "[38014 rows x 18 columns]"
      ]
     },
     "execution_count": 36,
     "metadata": {},
     "output_type": "execute_result"
    }
   ],
   "source": [
    "electricity"
   ]
  },
  {
   "cell_type": "markdown",
   "id": "0a9b918c",
   "metadata": {},
   "source": [
    "### Displaying top 5 Rows of data"
   ]
  },
  {
   "cell_type": "code",
   "execution_count": 37,
   "id": "f893c71d",
   "metadata": {},
   "outputs": [
    {
     "data": {
      "text/html": [
       "<div>\n",
       "<style scoped>\n",
       "    .dataframe tbody tr th:only-of-type {\n",
       "        vertical-align: middle;\n",
       "    }\n",
       "\n",
       "    .dataframe tbody tr th {\n",
       "        vertical-align: top;\n",
       "    }\n",
       "\n",
       "    .dataframe thead th {\n",
       "        text-align: right;\n",
       "    }\n",
       "</style>\n",
       "<table border=\"1\" class=\"dataframe\">\n",
       "  <thead>\n",
       "    <tr style=\"text-align: right;\">\n",
       "      <th></th>\n",
       "      <th>DateTime</th>\n",
       "      <th>Holiday</th>\n",
       "      <th>HolidayFlag</th>\n",
       "      <th>DayOfWeek</th>\n",
       "      <th>WeekOfYear</th>\n",
       "      <th>Day</th>\n",
       "      <th>Month</th>\n",
       "      <th>Year</th>\n",
       "      <th>PeriodOfDay</th>\n",
       "      <th>ForecastWindProduction</th>\n",
       "      <th>SystemLoadEA</th>\n",
       "      <th>SMPEA</th>\n",
       "      <th>ORKTemperature</th>\n",
       "      <th>ORKWindspeed</th>\n",
       "      <th>CO2Intensity</th>\n",
       "      <th>ActualWindProduction</th>\n",
       "      <th>SystemLoadEP2</th>\n",
       "      <th>SMPEP2</th>\n",
       "    </tr>\n",
       "  </thead>\n",
       "  <tbody>\n",
       "    <tr>\n",
       "      <th>0</th>\n",
       "      <td>01/11/2011 00:00</td>\n",
       "      <td>None</td>\n",
       "      <td>0</td>\n",
       "      <td>1</td>\n",
       "      <td>44</td>\n",
       "      <td>1</td>\n",
       "      <td>11</td>\n",
       "      <td>2011</td>\n",
       "      <td>0</td>\n",
       "      <td>315.31</td>\n",
       "      <td>3388.77</td>\n",
       "      <td>49.26</td>\n",
       "      <td>6.00</td>\n",
       "      <td>9.30</td>\n",
       "      <td>600.71</td>\n",
       "      <td>356.00</td>\n",
       "      <td>3159.60</td>\n",
       "      <td>54.32</td>\n",
       "    </tr>\n",
       "    <tr>\n",
       "      <th>1</th>\n",
       "      <td>01/11/2011 00:30</td>\n",
       "      <td>None</td>\n",
       "      <td>0</td>\n",
       "      <td>1</td>\n",
       "      <td>44</td>\n",
       "      <td>1</td>\n",
       "      <td>11</td>\n",
       "      <td>2011</td>\n",
       "      <td>1</td>\n",
       "      <td>321.80</td>\n",
       "      <td>3196.66</td>\n",
       "      <td>49.26</td>\n",
       "      <td>6.00</td>\n",
       "      <td>11.10</td>\n",
       "      <td>605.42</td>\n",
       "      <td>317.00</td>\n",
       "      <td>2973.01</td>\n",
       "      <td>54.23</td>\n",
       "    </tr>\n",
       "    <tr>\n",
       "      <th>2</th>\n",
       "      <td>01/11/2011 01:00</td>\n",
       "      <td>None</td>\n",
       "      <td>0</td>\n",
       "      <td>1</td>\n",
       "      <td>44</td>\n",
       "      <td>1</td>\n",
       "      <td>11</td>\n",
       "      <td>2011</td>\n",
       "      <td>2</td>\n",
       "      <td>328.57</td>\n",
       "      <td>3060.71</td>\n",
       "      <td>49.10</td>\n",
       "      <td>5.00</td>\n",
       "      <td>11.10</td>\n",
       "      <td>589.97</td>\n",
       "      <td>311.00</td>\n",
       "      <td>2834.00</td>\n",
       "      <td>54.23</td>\n",
       "    </tr>\n",
       "    <tr>\n",
       "      <th>3</th>\n",
       "      <td>01/11/2011 01:30</td>\n",
       "      <td>None</td>\n",
       "      <td>0</td>\n",
       "      <td>1</td>\n",
       "      <td>44</td>\n",
       "      <td>1</td>\n",
       "      <td>11</td>\n",
       "      <td>2011</td>\n",
       "      <td>3</td>\n",
       "      <td>335.60</td>\n",
       "      <td>2945.56</td>\n",
       "      <td>48.04</td>\n",
       "      <td>6.00</td>\n",
       "      <td>9.30</td>\n",
       "      <td>585.94</td>\n",
       "      <td>313.00</td>\n",
       "      <td>2725.99</td>\n",
       "      <td>53.47</td>\n",
       "    </tr>\n",
       "    <tr>\n",
       "      <th>4</th>\n",
       "      <td>01/11/2011 02:00</td>\n",
       "      <td>None</td>\n",
       "      <td>0</td>\n",
       "      <td>1</td>\n",
       "      <td>44</td>\n",
       "      <td>1</td>\n",
       "      <td>11</td>\n",
       "      <td>2011</td>\n",
       "      <td>4</td>\n",
       "      <td>342.90</td>\n",
       "      <td>2849.34</td>\n",
       "      <td>33.75</td>\n",
       "      <td>6.00</td>\n",
       "      <td>11.10</td>\n",
       "      <td>571.52</td>\n",
       "      <td>346.00</td>\n",
       "      <td>2655.64</td>\n",
       "      <td>39.87</td>\n",
       "    </tr>\n",
       "  </tbody>\n",
       "</table>\n",
       "</div>"
      ],
      "text/plain": [
       "           DateTime Holiday  HolidayFlag  DayOfWeek  WeekOfYear  Day  Month  \\\n",
       "0  01/11/2011 00:00    None            0          1          44    1     11   \n",
       "1  01/11/2011 00:30    None            0          1          44    1     11   \n",
       "2  01/11/2011 01:00    None            0          1          44    1     11   \n",
       "3  01/11/2011 01:30    None            0          1          44    1     11   \n",
       "4  01/11/2011 02:00    None            0          1          44    1     11   \n",
       "\n",
       "   Year  PeriodOfDay ForecastWindProduction SystemLoadEA  SMPEA  \\\n",
       "0  2011            0                 315.31      3388.77  49.26   \n",
       "1  2011            1                 321.80      3196.66  49.26   \n",
       "2  2011            2                 328.57      3060.71  49.10   \n",
       "3  2011            3                 335.60      2945.56  48.04   \n",
       "4  2011            4                 342.90      2849.34  33.75   \n",
       "\n",
       "  ORKTemperature ORKWindspeed CO2Intensity ActualWindProduction SystemLoadEP2  \\\n",
       "0           6.00         9.30       600.71               356.00       3159.60   \n",
       "1           6.00        11.10       605.42               317.00       2973.01   \n",
       "2           5.00        11.10       589.97               311.00       2834.00   \n",
       "3           6.00         9.30       585.94               313.00       2725.99   \n",
       "4           6.00        11.10       571.52               346.00       2655.64   \n",
       "\n",
       "  SMPEP2  \n",
       "0  54.32  \n",
       "1  54.23  \n",
       "2  54.23  \n",
       "3  53.47  \n",
       "4  39.87  "
      ]
     },
     "execution_count": 37,
     "metadata": {},
     "output_type": "execute_result"
    }
   ],
   "source": [
    "electricity.head()"
   ]
  },
  {
   "cell_type": "markdown",
   "id": "ea05d5ad",
   "metadata": {},
   "source": [
    "### Displaying last 5 rows of data"
   ]
  },
  {
   "cell_type": "code",
   "execution_count": 38,
   "id": "98e229de",
   "metadata": {},
   "outputs": [
    {
     "data": {
      "text/html": [
       "<div>\n",
       "<style scoped>\n",
       "    .dataframe tbody tr th:only-of-type {\n",
       "        vertical-align: middle;\n",
       "    }\n",
       "\n",
       "    .dataframe tbody tr th {\n",
       "        vertical-align: top;\n",
       "    }\n",
       "\n",
       "    .dataframe thead th {\n",
       "        text-align: right;\n",
       "    }\n",
       "</style>\n",
       "<table border=\"1\" class=\"dataframe\">\n",
       "  <thead>\n",
       "    <tr style=\"text-align: right;\">\n",
       "      <th></th>\n",
       "      <th>DateTime</th>\n",
       "      <th>Holiday</th>\n",
       "      <th>HolidayFlag</th>\n",
       "      <th>DayOfWeek</th>\n",
       "      <th>WeekOfYear</th>\n",
       "      <th>Day</th>\n",
       "      <th>Month</th>\n",
       "      <th>Year</th>\n",
       "      <th>PeriodOfDay</th>\n",
       "      <th>ForecastWindProduction</th>\n",
       "      <th>SystemLoadEA</th>\n",
       "      <th>SMPEA</th>\n",
       "      <th>ORKTemperature</th>\n",
       "      <th>ORKWindspeed</th>\n",
       "      <th>CO2Intensity</th>\n",
       "      <th>ActualWindProduction</th>\n",
       "      <th>SystemLoadEP2</th>\n",
       "      <th>SMPEP2</th>\n",
       "    </tr>\n",
       "  </thead>\n",
       "  <tbody>\n",
       "    <tr>\n",
       "      <th>38009</th>\n",
       "      <td>31/12/2013 21:30</td>\n",
       "      <td>New Year's Eve</td>\n",
       "      <td>1</td>\n",
       "      <td>1</td>\n",
       "      <td>1</td>\n",
       "      <td>31</td>\n",
       "      <td>12</td>\n",
       "      <td>2013</td>\n",
       "      <td>43</td>\n",
       "      <td>1179.14</td>\n",
       "      <td>3932.22</td>\n",
       "      <td>34.51</td>\n",
       "      <td>6.00</td>\n",
       "      <td>22.20</td>\n",
       "      <td>285.31</td>\n",
       "      <td>812.0</td>\n",
       "      <td>3692.95</td>\n",
       "      <td>42.45</td>\n",
       "    </tr>\n",
       "    <tr>\n",
       "      <th>38010</th>\n",
       "      <td>31/12/2013 22:00</td>\n",
       "      <td>New Year's Eve</td>\n",
       "      <td>1</td>\n",
       "      <td>1</td>\n",
       "      <td>1</td>\n",
       "      <td>31</td>\n",
       "      <td>12</td>\n",
       "      <td>2013</td>\n",
       "      <td>44</td>\n",
       "      <td>1152.01</td>\n",
       "      <td>3821.44</td>\n",
       "      <td>33.83</td>\n",
       "      <td>5.00</td>\n",
       "      <td>24.10</td>\n",
       "      <td>278.31</td>\n",
       "      <td>852.0</td>\n",
       "      <td>3571.0</td>\n",
       "      <td>33.83</td>\n",
       "    </tr>\n",
       "    <tr>\n",
       "      <th>38011</th>\n",
       "      <td>31/12/2013 22:30</td>\n",
       "      <td>New Year's Eve</td>\n",
       "      <td>1</td>\n",
       "      <td>1</td>\n",
       "      <td>1</td>\n",
       "      <td>31</td>\n",
       "      <td>12</td>\n",
       "      <td>2013</td>\n",
       "      <td>45</td>\n",
       "      <td>1123.67</td>\n",
       "      <td>3724.21</td>\n",
       "      <td>31.75</td>\n",
       "      <td>4.00</td>\n",
       "      <td>20.40</td>\n",
       "      <td>280.91</td>\n",
       "      <td>962.0</td>\n",
       "      <td>3460.29</td>\n",
       "      <td>31.75</td>\n",
       "    </tr>\n",
       "    <tr>\n",
       "      <th>38012</th>\n",
       "      <td>31/12/2013 23:00</td>\n",
       "      <td>New Year's Eve</td>\n",
       "      <td>1</td>\n",
       "      <td>1</td>\n",
       "      <td>1</td>\n",
       "      <td>31</td>\n",
       "      <td>12</td>\n",
       "      <td>2013</td>\n",
       "      <td>46</td>\n",
       "      <td>1094.24</td>\n",
       "      <td>3638.16</td>\n",
       "      <td>33.83</td>\n",
       "      <td>5.00</td>\n",
       "      <td>14.80</td>\n",
       "      <td>302.46</td>\n",
       "      <td>950.0</td>\n",
       "      <td>3563.99</td>\n",
       "      <td>50.6</td>\n",
       "    </tr>\n",
       "    <tr>\n",
       "      <th>38013</th>\n",
       "      <td>31/12/2013 23:30</td>\n",
       "      <td>New Year's Eve</td>\n",
       "      <td>1</td>\n",
       "      <td>1</td>\n",
       "      <td>1</td>\n",
       "      <td>31</td>\n",
       "      <td>12</td>\n",
       "      <td>2013</td>\n",
       "      <td>47</td>\n",
       "      <td>1064.0</td>\n",
       "      <td>3624.25</td>\n",
       "      <td>33.83</td>\n",
       "      <td>5.00</td>\n",
       "      <td>16.70</td>\n",
       "      <td>308.01</td>\n",
       "      <td>1020.0</td>\n",
       "      <td>3517.08</td>\n",
       "      <td>34.9</td>\n",
       "    </tr>\n",
       "  </tbody>\n",
       "</table>\n",
       "</div>"
      ],
      "text/plain": [
       "               DateTime         Holiday  HolidayFlag  DayOfWeek  WeekOfYear  \\\n",
       "38009  31/12/2013 21:30  New Year's Eve            1          1           1   \n",
       "38010  31/12/2013 22:00  New Year's Eve            1          1           1   \n",
       "38011  31/12/2013 22:30  New Year's Eve            1          1           1   \n",
       "38012  31/12/2013 23:00  New Year's Eve            1          1           1   \n",
       "38013  31/12/2013 23:30  New Year's Eve            1          1           1   \n",
       "\n",
       "       Day  Month  Year  PeriodOfDay ForecastWindProduction SystemLoadEA  \\\n",
       "38009   31     12  2013           43                1179.14      3932.22   \n",
       "38010   31     12  2013           44                1152.01      3821.44   \n",
       "38011   31     12  2013           45                1123.67      3724.21   \n",
       "38012   31     12  2013           46                1094.24      3638.16   \n",
       "38013   31     12  2013           47                 1064.0      3624.25   \n",
       "\n",
       "       SMPEA ORKTemperature ORKWindspeed CO2Intensity ActualWindProduction  \\\n",
       "38009  34.51           6.00        22.20       285.31                812.0   \n",
       "38010  33.83           5.00        24.10       278.31                852.0   \n",
       "38011  31.75           4.00        20.40       280.91                962.0   \n",
       "38012  33.83           5.00        14.80       302.46                950.0   \n",
       "38013  33.83           5.00        16.70       308.01               1020.0   \n",
       "\n",
       "      SystemLoadEP2 SMPEP2  \n",
       "38009       3692.95  42.45  \n",
       "38010        3571.0  33.83  \n",
       "38011       3460.29  31.75  \n",
       "38012       3563.99   50.6  \n",
       "38013       3517.08   34.9  "
      ]
     },
     "execution_count": 38,
     "metadata": {},
     "output_type": "execute_result"
    }
   ],
   "source": [
    "electricity.tail()"
   ]
  },
  {
   "cell_type": "markdown",
   "id": "22e5b7ac",
   "metadata": {},
   "source": [
    "### Shows number of rows and columns"
   ]
  },
  {
   "cell_type": "code",
   "execution_count": 39,
   "id": "ce2621de",
   "metadata": {},
   "outputs": [
    {
     "name": "stdout",
     "output_type": "stream",
     "text": [
      "Number of columns  18\n",
      "Number of rows  38014\n"
     ]
    }
   ],
   "source": [
    "print(\"Number of columns \",electricity.shape[1])\n",
    "print(\"Number of rows \",electricity.shape[0])"
   ]
  },
  {
   "cell_type": "markdown",
   "id": "628e78e5",
   "metadata": {},
   "source": [
    "### Getting basic information about the dataset"
   ]
  },
  {
   "cell_type": "code",
   "execution_count": 40,
   "id": "96a53524",
   "metadata": {},
   "outputs": [
    {
     "name": "stdout",
     "output_type": "stream",
     "text": [
      "<class 'pandas.core.frame.DataFrame'>\n",
      "RangeIndex: 38014 entries, 0 to 38013\n",
      "Data columns (total 18 columns):\n",
      " #   Column                  Non-Null Count  Dtype \n",
      "---  ------                  --------------  ----- \n",
      " 0   DateTime                38014 non-null  object\n",
      " 1   Holiday                 38014 non-null  object\n",
      " 2   HolidayFlag             38014 non-null  int64 \n",
      " 3   DayOfWeek               38014 non-null  int64 \n",
      " 4   WeekOfYear              38014 non-null  int64 \n",
      " 5   Day                     38014 non-null  int64 \n",
      " 6   Month                   38014 non-null  int64 \n",
      " 7   Year                    38014 non-null  int64 \n",
      " 8   PeriodOfDay             38014 non-null  int64 \n",
      " 9   ForecastWindProduction  38014 non-null  object\n",
      " 10  SystemLoadEA            38014 non-null  object\n",
      " 11  SMPEA                   38014 non-null  object\n",
      " 12  ORKTemperature          38014 non-null  object\n",
      " 13  ORKWindspeed            38014 non-null  object\n",
      " 14  CO2Intensity            38014 non-null  object\n",
      " 15  ActualWindProduction    38014 non-null  object\n",
      " 16  SystemLoadEP2           38014 non-null  object\n",
      " 17  SMPEP2                  38014 non-null  object\n",
      "dtypes: int64(7), object(11)\n",
      "memory usage: 5.2+ MB\n"
     ]
    }
   ],
   "source": [
    "electricity.info()"
   ]
  },
  {
   "cell_type": "markdown",
   "id": "a2b21781",
   "metadata": {},
   "source": [
    "### Data Exploration "
   ]
  },
  {
   "cell_type": "code",
   "execution_count": 41,
   "id": "63f7bcbc",
   "metadata": {},
   "outputs": [],
   "source": [
    "#DateTime column"
   ]
  },
  {
   "cell_type": "code",
   "execution_count": 42,
   "id": "1469fa31",
   "metadata": {},
   "outputs": [
    {
     "data": {
      "text/plain": [
       "array(['01/11/2011 00:00', '01/11/2011 00:30', '01/11/2011 01:00', ...,\n",
       "       '31/12/2013 22:30', '31/12/2013 23:00', '31/12/2013 23:30'],\n",
       "      dtype=object)"
      ]
     },
     "execution_count": 42,
     "metadata": {},
     "output_type": "execute_result"
    }
   ],
   "source": [
    "electricity['DateTime'].unique()"
   ]
  },
  {
   "cell_type": "code",
   "execution_count": 43,
   "id": "7288a384",
   "metadata": {},
   "outputs": [
    {
     "data": {
      "text/plain": [
       "38014"
      ]
     },
     "execution_count": 43,
     "metadata": {},
     "output_type": "execute_result"
    }
   ],
   "source": [
    "electricity['DateTime'].nunique()"
   ]
  },
  {
   "cell_type": "code",
   "execution_count": 44,
   "id": "85f4ee00",
   "metadata": {},
   "outputs": [
    {
     "name": "stderr",
     "output_type": "stream",
     "text": [
      "C:\\Users\\Dell\\AppData\\Local\\Temp\\ipykernel_19188\\3203971033.py:1: FutureWarning: Treating datetime data as categorical rather than numeric in `.describe` is deprecated and will be removed in a future version of pandas. Specify `datetime_is_numeric=True` to silence this warning and adopt the future behavior now.\n",
      "  pd.to_datetime(electricity['DateTime']).describe()\n"
     ]
    },
    {
     "data": {
      "text/plain": [
       "count                   38014\n",
       "unique                  38014\n",
       "top       2011-01-11 00:00:00\n",
       "freq                        1\n",
       "first     2011-01-11 00:00:00\n",
       "last      2013-12-31 23:30:00\n",
       "Name: DateTime, dtype: object"
      ]
     },
     "execution_count": 44,
     "metadata": {},
     "output_type": "execute_result"
    }
   ],
   "source": [
    "pd.to_datetime(electricity['DateTime']).describe()"
   ]
  },
  {
   "cell_type": "code",
   "execution_count": 45,
   "id": "e6eb5a15",
   "metadata": {
    "scrolled": true
   },
   "outputs": [
    {
     "data": {
      "text/plain": [
       "0    01/11/2011 00:00\n",
       "1    01/11/2011 00:30\n",
       "Name: DateTime, dtype: object"
      ]
     },
     "execution_count": 45,
     "metadata": {},
     "output_type": "execute_result"
    }
   ],
   "source": [
    "electricity['DateTime'].head(2)"
   ]
  },
  {
   "cell_type": "code",
   "execution_count": 46,
   "id": "0aa597c4",
   "metadata": {},
   "outputs": [],
   "source": [
    "#since our datetime columns has object format so we have convert into proper datatype format\n",
    "electricity['DateTime'] = pd.to_datetime(electricity['DateTime'])"
   ]
  },
  {
   "cell_type": "code",
   "execution_count": 47,
   "id": "9c4d5770",
   "metadata": {},
   "outputs": [
    {
     "data": {
      "text/html": [
       "<div>\n",
       "<style scoped>\n",
       "    .dataframe tbody tr th:only-of-type {\n",
       "        vertical-align: middle;\n",
       "    }\n",
       "\n",
       "    .dataframe tbody tr th {\n",
       "        vertical-align: top;\n",
       "    }\n",
       "\n",
       "    .dataframe thead th {\n",
       "        text-align: right;\n",
       "    }\n",
       "</style>\n",
       "<table border=\"1\" class=\"dataframe\">\n",
       "  <thead>\n",
       "    <tr style=\"text-align: right;\">\n",
       "      <th></th>\n",
       "      <th>DateTime</th>\n",
       "      <th>Holiday</th>\n",
       "      <th>HolidayFlag</th>\n",
       "      <th>DayOfWeek</th>\n",
       "      <th>WeekOfYear</th>\n",
       "      <th>Day</th>\n",
       "      <th>Month</th>\n",
       "      <th>Year</th>\n",
       "      <th>PeriodOfDay</th>\n",
       "      <th>ForecastWindProduction</th>\n",
       "      <th>SystemLoadEA</th>\n",
       "      <th>SMPEA</th>\n",
       "      <th>ORKTemperature</th>\n",
       "      <th>ORKWindspeed</th>\n",
       "      <th>CO2Intensity</th>\n",
       "      <th>ActualWindProduction</th>\n",
       "      <th>SystemLoadEP2</th>\n",
       "      <th>SMPEP2</th>\n",
       "    </tr>\n",
       "  </thead>\n",
       "  <tbody>\n",
       "    <tr>\n",
       "      <th>0</th>\n",
       "      <td>2011-01-11 00:00:00</td>\n",
       "      <td>None</td>\n",
       "      <td>0</td>\n",
       "      <td>1</td>\n",
       "      <td>44</td>\n",
       "      <td>1</td>\n",
       "      <td>11</td>\n",
       "      <td>2011</td>\n",
       "      <td>0</td>\n",
       "      <td>315.31</td>\n",
       "      <td>3388.77</td>\n",
       "      <td>49.26</td>\n",
       "      <td>6.00</td>\n",
       "      <td>9.30</td>\n",
       "      <td>600.71</td>\n",
       "      <td>356.00</td>\n",
       "      <td>3159.60</td>\n",
       "      <td>54.32</td>\n",
       "    </tr>\n",
       "    <tr>\n",
       "      <th>1</th>\n",
       "      <td>2011-01-11 00:30:00</td>\n",
       "      <td>None</td>\n",
       "      <td>0</td>\n",
       "      <td>1</td>\n",
       "      <td>44</td>\n",
       "      <td>1</td>\n",
       "      <td>11</td>\n",
       "      <td>2011</td>\n",
       "      <td>1</td>\n",
       "      <td>321.80</td>\n",
       "      <td>3196.66</td>\n",
       "      <td>49.26</td>\n",
       "      <td>6.00</td>\n",
       "      <td>11.10</td>\n",
       "      <td>605.42</td>\n",
       "      <td>317.00</td>\n",
       "      <td>2973.01</td>\n",
       "      <td>54.23</td>\n",
       "    </tr>\n",
       "  </tbody>\n",
       "</table>\n",
       "</div>"
      ],
      "text/plain": [
       "             DateTime Holiday  HolidayFlag  DayOfWeek  WeekOfYear  Day  Month  \\\n",
       "0 2011-01-11 00:00:00    None            0          1          44    1     11   \n",
       "1 2011-01-11 00:30:00    None            0          1          44    1     11   \n",
       "\n",
       "   Year  PeriodOfDay ForecastWindProduction SystemLoadEA  SMPEA  \\\n",
       "0  2011            0                 315.31      3388.77  49.26   \n",
       "1  2011            1                 321.80      3196.66  49.26   \n",
       "\n",
       "  ORKTemperature ORKWindspeed CO2Intensity ActualWindProduction SystemLoadEP2  \\\n",
       "0           6.00         9.30       600.71               356.00       3159.60   \n",
       "1           6.00        11.10       605.42               317.00       2973.01   \n",
       "\n",
       "  SMPEP2  \n",
       "0  54.32  \n",
       "1  54.23  "
      ]
     },
     "execution_count": 47,
     "metadata": {},
     "output_type": "execute_result"
    }
   ],
   "source": [
    "electricity.head(2)"
   ]
  },
  {
   "cell_type": "code",
   "execution_count": 48,
   "id": "aa46c9aa",
   "metadata": {},
   "outputs": [
    {
     "data": {
      "text/plain": [
       "dtype('<M8[ns]')"
      ]
     },
     "execution_count": 48,
     "metadata": {},
     "output_type": "execute_result"
    }
   ],
   "source": [
    "electricity['DateTime'].dtypes"
   ]
  },
  {
   "cell_type": "code",
   "execution_count": 49,
   "id": "1fd79587",
   "metadata": {},
   "outputs": [],
   "source": [
    "#before heading to other, we want to confirm the null values exists, relationship between each column with others."
   ]
  },
  {
   "cell_type": "markdown",
   "id": "36bfd042",
   "metadata": {},
   "source": [
    "### Checking null values presence"
   ]
  },
  {
   "cell_type": "code",
   "execution_count": 50,
   "id": "06d07a23",
   "metadata": {},
   "outputs": [
    {
     "data": {
      "text/plain": [
       "DateTime                  0\n",
       "Holiday                   0\n",
       "HolidayFlag               0\n",
       "DayOfWeek                 0\n",
       "WeekOfYear                0\n",
       "Day                       0\n",
       "Month                     0\n",
       "Year                      0\n",
       "PeriodOfDay               0\n",
       "ForecastWindProduction    0\n",
       "SystemLoadEA              0\n",
       "SMPEA                     0\n",
       "ORKTemperature            0\n",
       "ORKWindspeed              0\n",
       "CO2Intensity              0\n",
       "ActualWindProduction      0\n",
       "SystemLoadEP2             0\n",
       "SMPEP2                    0\n",
       "dtype: int64"
      ]
     },
     "execution_count": 50,
     "metadata": {},
     "output_type": "execute_result"
    }
   ],
   "source": [
    "electricity.isnull().sum()"
   ]
  },
  {
   "cell_type": "markdown",
   "id": "8a9b9769",
   "metadata": {},
   "source": [
    "### Finding relationship each column using heatmap"
   ]
  },
  {
   "cell_type": "code",
   "execution_count": 51,
   "id": "68d6844c",
   "metadata": {
    "scrolled": true
   },
   "outputs": [
    {
     "name": "stderr",
     "output_type": "stream",
     "text": [
      "C:\\Users\\Dell\\AppData\\Local\\Temp\\ipykernel_19188\\1051386638.py:2: FutureWarning: The default value of numeric_only in DataFrame.corr is deprecated. In a future version, it will default to False. Select only valid columns or specify the value of numeric_only to silence this warning.\n",
      "  relationship = electricity.corr(method='pearson')\n"
     ]
    },
    {
     "data": {
      "image/png": "[encoded data removed]",
      "text/plain": [
       "<Figure size 1000x1000 with 2 Axes>"
      ]
     },
     "metadata": {},
     "output_type": "display_data"
    }
   ],
   "source": [
    "plt.figure(figsize=(10,10))\n",
    "relationship = electricity.corr(method='pearson')\n",
    "sns.heatmap(relationship,annot=True,cmap='coolwarm')\n",
    "plt.show()"
   ]
  },
  {
   "cell_type": "code",
   "execution_count": null,
   "id": "27110950",
   "metadata": {},
   "outputs": [],
   "source": []
  },
  {
   "cell_type": "markdown",
   "id": "94718c68",
   "metadata": {},
   "source": [
    "# RANDOM FOREST:"
   ]
  },
  {
   "cell_type": "code",
   "execution_count": 52,
   "id": "698eeea0",
   "metadata": {},
   "outputs": [],
   "source": [
    "import pandas as pd\n",
    "import seaborn as sns\n",
    "import matplotlib.pyplot as plt\n",
    "from sklearn.metrics import mean_squared_error\n",
    "from sklearn.preprocessing import StandardScaler\n",
    "from sklearn.ensemble import RandomForestRegressor\n",
    "from sklearn.model_selection import train_test_split"
   ]
  },
  {
   "cell_type": "code",
   "execution_count": 54,
   "id": "7480a696",
   "metadata": {},
   "outputs": [],
   "source": [
    "df = pd.read_csv(r\"C:\\Users\\Dell\\Pictures\\Camera Roll\\Electricity.csv\", na_values=['?'])"
   ]
  },
  {
   "cell_type": "code",
   "execution_count": 55,
   "id": "8819a5ba",
   "metadata": {},
   "outputs": [],
   "source": [
    "df['DateTime'] = pd.to_datetime(df['DateTime'], format='%d/%m/%Y %H:%M')"
   ]
  },
  {
   "cell_type": "code",
   "execution_count": 56,
   "id": "d1c940bf",
   "metadata": {},
   "outputs": [],
   "source": [
    "numeric_columns = ['ForecastWindProduction', 'SystemLoadEA', 'SMPEA', 'ORKTemperature', \n",
    "                   'ORKWindspeed', 'CO2Intensity', 'SystemLoadEP2', 'SMPEP2','ActualWindProduction']"
   ]
  },
  {
   "cell_type": "code",
   "execution_count": 57,
   "id": "01d79e8a",
   "metadata": {},
   "outputs": [],
   "source": [
    "df[numeric_columns] = df[numeric_columns].apply(pd.to_numeric, errors='coerce')\n",
    "df[numeric_columns] = df[numeric_columns].fillna(df[numeric_columns].mean())\n",
    "df.dropna(subset=['ActualWindProduction'], inplace=True)"
   ]
  },
  {
   "cell_type": "code",
   "execution_count": 63,
   "id": "fb056707",
   "metadata": {},
   "outputs": [],
   "source": [
    "X = df.drop(['SMPEP2', 'DateTime', 'Holiday'], axis=1)  \n",
    "y = df['SMPEP2']"
   ]
  },
  {
   "cell_type": "code",
   "execution_count": 64,
   "id": "a6dfd42a",
   "metadata": {},
   "outputs": [
    {
     "name": "stdout",
     "output_type": "stream",
     "text": [
      "<class 'pandas.core.series.Series'>\n",
      "RangeIndex: 38014 entries, 0 to 38013\n",
      "Series name: SMPEP2\n",
      "Non-Null Count  Dtype  \n",
      "--------------  -----  \n",
      "38014 non-null  float64\n",
      "dtypes: float64(1)\n",
      "memory usage: 297.1 KB\n"
     ]
    }
   ],
   "source": [
    "y.info()"
   ]
  },
  {
   "cell_type": "code",
   "execution_count": 65,
   "id": "d034a428",
   "metadata": {},
   "outputs": [],
   "source": [
    "X_train, X_test, y_train, y_test = train_test_split(X, y, test_size=0.2, random_state=42)"
   ]
  },
  {
   "cell_type": "code",
   "execution_count": 66,
   "id": "87e10045",
   "metadata": {},
   "outputs": [],
   "source": [
    "scaler = StandardScaler()\n",
    "X_train_scaled = scaler.fit_transform(X_train)\n",
    "X_test_scaled = scaler.transform(X_test)"
   ]
  },
  {
   "cell_type": "code",
   "execution_count": 67,
   "id": "8be95e90",
   "metadata": {},
   "outputs": [],
   "source": [
    "model = RandomForestRegressor(n_estimators=100, random_state=42)"
   ]
  },
  {
   "cell_type": "code",
   "execution_count": 68,
   "id": "8964c43d",
   "metadata": {
    "scrolled": true
   },
   "outputs": [
    {
     "data": {
      "text/html": [
       "<style>#sk-container-id-1 {color: black;background-color: white;}#sk-container-id-1 pre{padding: 0;}#sk-container-id-1 div.sk-toggleable {background-color: white;}#sk-container-id-1 label.sk-toggleable__label {cursor: pointer;display: block;width: 100%;margin-bottom: 0;padding: 0.3em;box-sizing: border-box;text-align: center;}#sk-container-id-1 label.sk-toggleable__label-arrow:before {content: \"▸\";float: left;margin-right: 0.25em;color: #696969;}#sk-container-id-1 label.sk-toggleable__label-arrow:hover:before {color: black;}#sk-container-id-1 div.sk-estimator:hover label.sk-toggleable__label-arrow:before {color: black;}#sk-container-id-1 div.sk-toggleable__content {max-height: 0;max-width: 0;overflow: hidden;text-align: left;background-color: #f0f8ff;}#sk-container-id-1 div.sk-toggleable__content pre {margin: 0.2em;color: black;border-radius: 0.25em;background-color: #f0f8ff;}#sk-container-id-1 input.sk-toggleable__control:checked~div.sk-toggleable__content {max-height: 200px;max-width: 100%;overflow: auto;}#sk-container-id-1 input.sk-toggleable__control:checked~label.sk-toggleable__label-arrow:before {content: \"▾\";}#sk-container-id-1 div.sk-estimator input.sk-toggleable__control:checked~label.sk-toggleable__label {background-color: #d4ebff;}#sk-container-id-1 div.sk-label input.sk-toggleable__control:checked~label.sk-toggleable__label {background-color: #d4ebff;}#sk-container-id-1 input.sk-hidden--visually {border: 0;clip: rect(1px 1px 1px 1px);clip: rect(1px, 1px, 1px, 1px);height: 1px;margin: -1px;overflow: hidden;padding: 0;position: absolute;width: 1px;}#sk-container-id-1 div.sk-estimator {font-family: monospace;background-color: #f0f8ff;border: 1px dotted black;border-radius: 0.25em;box-sizing: border-box;margin-bottom: 0.5em;}#sk-container-id-1 div.sk-estimator:hover {background-color: #d4ebff;}#sk-container-id-1 div.sk-parallel-item::after {content: \"\";width: 100%;border-bottom: 1px solid gray;flex-grow: 1;}#sk-container-id-1 div.sk-label:hover label.sk-toggleable__label {background-color: #d4ebff;}#sk-container-id-1 div.sk-serial::before {content: \"\";position: absolute;border-left: 1px solid gray;box-sizing: border-box;top: 0;bottom: 0;left: 50%;z-index: 0;}#sk-container-id-1 div.sk-serial {display: flex;flex-direction: column;align-items: center;background-color: white;padding-right: 0.2em;padding-left: 0.2em;position: relative;}#sk-container-id-1 div.sk-item {position: relative;z-index: 1;}#sk-container-id-1 div.sk-parallel {display: flex;align-items: stretch;justify-content: center;background-color: white;position: relative;}#sk-container-id-1 div.sk-item::before, #sk-container-id-1 div.sk-parallel-item::before {content: \"\";position: absolute;border-left: 1px solid gray;box-sizing: border-box;top: 0;bottom: 0;left: 50%;z-index: -1;}#sk-container-id-1 div.sk-parallel-item {display: flex;flex-direction: column;z-index: 1;position: relative;background-color: white;}#sk-container-id-1 div.sk-parallel-item:first-child::after {align-self: flex-end;width: 50%;}#sk-container-id-1 div.sk-parallel-item:last-child::after {align-self: flex-start;width: 50%;}#sk-container-id-1 div.sk-parallel-item:only-child::after {width: 0;}#sk-container-id-1 div.sk-dashed-wrapped {border: 1px dashed gray;margin: 0 0.4em 0.5em 0.4em;box-sizing: border-box;padding-bottom: 0.4em;background-color: white;}#sk-container-id-1 div.sk-label label {font-family: monospace;font-weight: bold;display: inline-block;line-height: 1.2em;}#sk-container-id-1 div.sk-label-container {text-align: center;}#sk-container-id-1 div.sk-container {/* jupyter's `normalize.less` sets `[hidden] { display: none; }` but bootstrap.min.css set `[hidden] { display: none !important; }` so we also need the `!important` here to be able to override the default hidden behavior on the sphinx rendered scikit-learn.org. See: https://github.com/scikit-learn/scikit-learn/issues/21755 */display: inline-block !important;position: relative;}#sk-container-id-1 div.sk-text-repr-fallback {display: none;}</style><div id=\"sk-container-id-1\" class=\"sk-top-container\"><div class=\"sk-text-repr-fallback\"><pre>RandomForestRegressor(random_state=42)</pre><b>In a Jupyter environment, please rerun this cell to show the HTML representation or trust the notebook. <br />On GitHub, the HTML representation is unable to render, please try loading this page with nbviewer.org.</b></div><div class=\"sk-container\" hidden><div class=\"sk-item\"><div class=\"sk-estimator sk-toggleable\"><input class=\"sk-toggleable__control sk-hidden--visually\" id=\"sk-estimator-id-1\" type=\"checkbox\" checked><label for=\"sk-estimator-id-1\" class=\"sk-toggleable__label sk-toggleable__label-arrow\">RandomForestRegressor</label><div class=\"sk-toggleable__content\"><pre>RandomForestRegressor(random_state=42)</pre></div></div></div></div></div>"
      ],
      "text/plain": [
       "RandomForestRegressor(random_state=42)"
      ]
     },
     "execution_count": 68,
     "metadata": {},
     "output_type": "execute_result"
    }
   ],
   "source": [
    "model.fit(X_train_scaled, y_train)"
   ]
  },
  {
   "cell_type": "code",
   "execution_count": 69,
   "id": "949dc17b",
   "metadata": {},
   "outputs": [],
   "source": [
    "predictions = model.predict(X_test_scaled)"
   ]
  },
  {
   "cell_type": "code",
   "execution_count": 70,
   "id": "88a90ddd",
   "metadata": {},
   "outputs": [
    {
     "data": {
      "text/plain": [
       "array([ 65.8993,  47.6677,  66.6215, ..., 119.3892,  85.4476,  53.6113])"
      ]
     },
     "execution_count": 70,
     "metadata": {},
     "output_type": "execute_result"
    }
   ],
   "source": [
    "predictions"
   ]
  },
  {
   "cell_type": "code",
   "execution_count": 71,
   "id": "0c1b9d09",
   "metadata": {},
   "outputs": [
    {
     "name": "stdout",
     "output_type": "stream",
     "text": [
      "Mean Squared Error: 471.7032589823058\n"
     ]
    }
   ],
   "source": [
    "mse = mean_squared_error(y_test, predictions)\n",
    "print(f'Mean Squared Error: {mse}')"
   ]
  },
  {
   "cell_type": "code",
   "execution_count": 73,
   "id": "bf15e923",
   "metadata": {},
   "outputs": [
    {
     "data": {
      "text/plain": [
       "60.64140063105309"
      ]
     },
     "execution_count": 73,
     "metadata": {},
     "output_type": "execute_result"
    }
   ],
   "source": [
    "from sklearn.metrics import r2_score\n",
    "r2= r2_score(y_test, predictions)*100\n",
    "r2"
   ]
  },
  {
   "cell_type": "code",
   "execution_count": 82,
   "id": "490d1ed4",
   "metadata": {},
   "outputs": [
    {
     "data": {
      "image/png": "[encoded data removed]",
      "text/plain": [
       "<Figure size 1000x600 with 1 Axes>"
      ]
     },
     "metadata": {},
     "output_type": "display_data"
    }
   ],
   "source": [
    "plt.figure(figsize=(10, 6))\n",
    "plt.scatter(y_test, predictions, color='blue', alpha=0.5)\n",
    "plt.xlabel('Actual Values')\n",
    "plt.ylabel('Predicted Values')\n",
    "plt.title('Actual vs. Predicted Values')\n",
    "plt.show()"
   ]
  },
  {
   "cell_type": "code",
   "execution_count": 83,
   "id": "01bfca80",
   "metadata": {},
   "outputs": [
    {
     "data": {
      "image/png": "[encoded data removed]",
      "text/plain": [
       "<Figure size 1000x600 with 1 Axes>"
      ]
     },
     "metadata": {},
     "output_type": "display_data"
    }
   ],
   "source": [
    "residuals = y_test - predictions\n",
    "plt.figure(figsize=(10, 6))\n",
    "sns.residplot(x=predictions, y=residuals, lowess=True, color='green', line_kws={'color': 'red'})\n",
    "plt.xlabel('Predicted Values')\n",
    "plt.ylabel('Residuals')\n",
    "plt.title('Residual Plot')\n",
    "plt.show()"
   ]
  },
  {
   "cell_type": "markdown",
   "id": "97ae510d",
   "metadata": {},
   "source": [
    "# LINEAR REGRESSION"
   ]
  },
  {
   "cell_type": "code",
   "execution_count": 74,
   "id": "774da328",
   "metadata": {},
   "outputs": [],
   "source": [
    "import pandas as pd\n",
    "from sklearn.model_selection import train_test_split\n",
    "from sklearn.linear_model import LinearRegression\n",
    "from sklearn.metrics import mean_squared_error\n",
    "import matplotlib.pyplot as plt"
   ]
  },
  {
   "cell_type": "code",
   "execution_count": 79,
   "id": "b2a838ec",
   "metadata": {},
   "outputs": [
    {
     "data": {
      "text/html": [
       "<style>#sk-container-id-2 {color: black;background-color: white;}#sk-container-id-2 pre{padding: 0;}#sk-container-id-2 div.sk-toggleable {background-color: white;}#sk-container-id-2 label.sk-toggleable__label {cursor: pointer;display: block;width: 100%;margin-bottom: 0;padding: 0.3em;box-sizing: border-box;text-align: center;}#sk-container-id-2 label.sk-toggleable__label-arrow:before {content: \"▸\";float: left;margin-right: 0.25em;color: #696969;}#sk-container-id-2 label.sk-toggleable__label-arrow:hover:before {color: black;}#sk-container-id-2 div.sk-estimator:hover label.sk-toggleable__label-arrow:before {color: black;}#sk-container-id-2 div.sk-toggleable__content {max-height: 0;max-width: 0;overflow: hidden;text-align: left;background-color: #f0f8ff;}#sk-container-id-2 div.sk-toggleable__content pre {margin: 0.2em;color: black;border-radius: 0.25em;background-color: #f0f8ff;}#sk-container-id-2 input.sk-toggleable__control:checked~div.sk-toggleable__content {max-height: 200px;max-width: 100%;overflow: auto;}#sk-container-id-2 input.sk-toggleable__control:checked~label.sk-toggleable__label-arrow:before {content: \"▾\";}#sk-container-id-2 div.sk-estimator input.sk-toggleable__control:checked~label.sk-toggleable__label {background-color: #d4ebff;}#sk-container-id-2 div.sk-label input.sk-toggleable__control:checked~label.sk-toggleable__label {background-color: #d4ebff;}#sk-container-id-2 input.sk-hidden--visually {border: 0;clip: rect(1px 1px 1px 1px);clip: rect(1px, 1px, 1px, 1px);height: 1px;margin: -1px;overflow: hidden;padding: 0;position: absolute;width: 1px;}#sk-container-id-2 div.sk-estimator {font-family: monospace;background-color: #f0f8ff;border: 1px dotted black;border-radius: 0.25em;box-sizing: border-box;margin-bottom: 0.5em;}#sk-container-id-2 div.sk-estimator:hover {background-color: #d4ebff;}#sk-container-id-2 div.sk-parallel-item::after {content: \"\";width: 100%;border-bottom: 1px solid gray;flex-grow: 1;}#sk-container-id-2 div.sk-label:hover label.sk-toggleable__label {background-color: #d4ebff;}#sk-container-id-2 div.sk-serial::before {content: \"\";position: absolute;border-left: 1px solid gray;box-sizing: border-box;top: 0;bottom: 0;left: 50%;z-index: 0;}#sk-container-id-2 div.sk-serial {display: flex;flex-direction: column;align-items: center;background-color: white;padding-right: 0.2em;padding-left: 0.2em;position: relative;}#sk-container-id-2 div.sk-item {position: relative;z-index: 1;}#sk-container-id-2 div.sk-parallel {display: flex;align-items: stretch;justify-content: center;background-color: white;position: relative;}#sk-container-id-2 div.sk-item::before, #sk-container-id-2 div.sk-parallel-item::before {content: \"\";position: absolute;border-left: 1px solid gray;box-sizing: border-box;top: 0;bottom: 0;left: 50%;z-index: -1;}#sk-container-id-2 div.sk-parallel-item {display: flex;flex-direction: column;z-index: 1;position: relative;background-color: white;}#sk-container-id-2 div.sk-parallel-item:first-child::after {align-self: flex-end;width: 50%;}#sk-container-id-2 div.sk-parallel-item:last-child::after {align-self: flex-start;width: 50%;}#sk-container-id-2 div.sk-parallel-item:only-child::after {width: 0;}#sk-container-id-2 div.sk-dashed-wrapped {border: 1px dashed gray;margin: 0 0.4em 0.5em 0.4em;box-sizing: border-box;padding-bottom: 0.4em;background-color: white;}#sk-container-id-2 div.sk-label label {font-family: monospace;font-weight: bold;display: inline-block;line-height: 1.2em;}#sk-container-id-2 div.sk-label-container {text-align: center;}#sk-container-id-2 div.sk-container {/* jupyter's `normalize.less` sets `[hidden] { display: none; }` but bootstrap.min.css set `[hidden] { display: none !important; }` so we also need the `!important` here to be able to override the default hidden behavior on the sphinx rendered scikit-learn.org. See: https://github.com/scikit-learn/scikit-learn/issues/21755 */display: inline-block !important;position: relative;}#sk-container-id-2 div.sk-text-repr-fallback {display: none;}</style><div id=\"sk-container-id-2\" class=\"sk-top-container\"><div class=\"sk-text-repr-fallback\"><pre>LinearRegression()</pre><b>In a Jupyter environment, please rerun this cell to show the HTML representation or trust the notebook. <br />On GitHub, the HTML representation is unable to render, please try loading this page with nbviewer.org.</b></div><div class=\"sk-container\" hidden><div class=\"sk-item\"><div class=\"sk-estimator sk-toggleable\"><input class=\"sk-toggleable__control sk-hidden--visually\" id=\"sk-estimator-id-2\" type=\"checkbox\" checked><label for=\"sk-estimator-id-2\" class=\"sk-toggleable__label sk-toggleable__label-arrow\">LinearRegression</label><div class=\"sk-toggleable__content\"><pre>LinearRegression()</pre></div></div></div></div></div>"
      ],
      "text/plain": [
       "LinearRegression()"
      ]
     },
     "execution_count": 79,
     "metadata": {},
     "output_type": "execute_result"
    }
   ],
   "source": [
    "model = LinearRegression()\n",
    "model.fit(X_train_scaled, y_train)"
   ]
  },
  {
   "cell_type": "code",
   "execution_count": 80,
   "id": "53f2c9a4",
   "metadata": {},
   "outputs": [
    {
     "name": "stdout",
     "output_type": "stream",
     "text": [
      "Linear Regression - Mean squared error: 693.3944074610428\n"
     ]
    }
   ],
   "source": [
    "y_pred = model.predict(X_test_scaled)\n",
    "mse = mean_squared_error(y_test, y_pred)\n",
    "print('Linear Regression - Mean squared error:', mse)"
   ]
  },
  {
   "cell_type": "code",
   "execution_count": 81,
   "id": "8e1ee4c6",
   "metadata": {},
   "outputs": [
    {
     "data": {
      "text/plain": [
       "42.14364185906284"
      ]
     },
     "execution_count": 81,
     "metadata": {},
     "output_type": "execute_result"
    }
   ],
   "source": [
    "from sklearn.metrics import r2_score\n",
    "r2= r2_score(y_test, y_pred)*100\n",
    "r2"
   ]
  },
  {
   "cell_type": "code",
   "execution_count": 87,
   "id": "2b8f02f9",
   "metadata": {},
   "outputs": [],
   "source": [
    "import pandas as pd\n",
    "from sklearn.model_selection import train_test_split\n",
    "from sklearn.tree import DecisionTreeRegressor\n",
    "from sklearn.metrics import mean_squared_error\n",
    "from sklearn.metrics import accuracy_score\n",
    "import matplotlib.pyplot as plt"
   ]
  },
  {
   "cell_type": "markdown",
   "id": "31c23a4d",
   "metadata": {},
   "source": [
    "## Decision tree regressor"
   ]
  },
  {
   "cell_type": "code",
   "execution_count": 88,
   "id": "8e710854",
   "metadata": {},
   "outputs": [
    {
     "data": {
      "text/html": [
       "<style>#sk-container-id-3 {color: black;background-color: white;}#sk-container-id-3 pre{padding: 0;}#sk-container-id-3 div.sk-toggleable {background-color: white;}#sk-container-id-3 label.sk-toggleable__label {cursor: pointer;display: block;width: 100%;margin-bottom: 0;padding: 0.3em;box-sizing: border-box;text-align: center;}#sk-container-id-3 label.sk-toggleable__label-arrow:before {content: \"▸\";float: left;margin-right: 0.25em;color: #696969;}#sk-container-id-3 label.sk-toggleable__label-arrow:hover:before {color: black;}#sk-container-id-3 div.sk-estimator:hover label.sk-toggleable__label-arrow:before {color: black;}#sk-container-id-3 div.sk-toggleable__content {max-height: 0;max-width: 0;overflow: hidden;text-align: left;background-color: #f0f8ff;}#sk-container-id-3 div.sk-toggleable__content pre {margin: 0.2em;color: black;border-radius: 0.25em;background-color: #f0f8ff;}#sk-container-id-3 input.sk-toggleable__control:checked~div.sk-toggleable__content {max-height: 200px;max-width: 100%;overflow: auto;}#sk-container-id-3 input.sk-toggleable__control:checked~label.sk-toggleable__label-arrow:before {content: \"▾\";}#sk-container-id-3 div.sk-estimator input.sk-toggleable__control:checked~label.sk-toggleable__label {background-color: #d4ebff;}#sk-container-id-3 div.sk-label input.sk-toggleable__control:checked~label.sk-toggleable__label {background-color: #d4ebff;}#sk-container-id-3 input.sk-hidden--visually {border: 0;clip: rect(1px 1px 1px 1px);clip: rect(1px, 1px, 1px, 1px);height: 1px;margin: -1px;overflow: hidden;padding: 0;position: absolute;width: 1px;}#sk-container-id-3 div.sk-estimator {font-family: monospace;background-color: #f0f8ff;border: 1px dotted black;border-radius: 0.25em;box-sizing: border-box;margin-bottom: 0.5em;}#sk-container-id-3 div.sk-estimator:hover {background-color: #d4ebff;}#sk-container-id-3 div.sk-parallel-item::after {content: \"\";width: 100%;border-bottom: 1px solid gray;flex-grow: 1;}#sk-container-id-3 div.sk-label:hover label.sk-toggleable__label {background-color: #d4ebff;}#sk-container-id-3 div.sk-serial::before {content: \"\";position: absolute;border-left: 1px solid gray;box-sizing: border-box;top: 0;bottom: 0;left: 50%;z-index: 0;}#sk-container-id-3 div.sk-serial {display: flex;flex-direction: column;align-items: center;background-color: white;padding-right: 0.2em;padding-left: 0.2em;position: relative;}#sk-container-id-3 div.sk-item {position: relative;z-index: 1;}#sk-container-id-3 div.sk-parallel {display: flex;align-items: stretch;justify-content: center;background-color: white;position: relative;}#sk-container-id-3 div.sk-item::before, #sk-container-id-3 div.sk-parallel-item::before {content: \"\";position: absolute;border-left: 1px solid gray;box-sizing: border-box;top: 0;bottom: 0;left: 50%;z-index: -1;}#sk-container-id-3 div.sk-parallel-item {display: flex;flex-direction: column;z-index: 1;position: relative;background-color: white;}#sk-container-id-3 div.sk-parallel-item:first-child::after {align-self: flex-end;width: 50%;}#sk-container-id-3 div.sk-parallel-item:last-child::after {align-self: flex-start;width: 50%;}#sk-container-id-3 div.sk-parallel-item:only-child::after {width: 0;}#sk-container-id-3 div.sk-dashed-wrapped {border: 1px dashed gray;margin: 0 0.4em 0.5em 0.4em;box-sizing: border-box;padding-bottom: 0.4em;background-color: white;}#sk-container-id-3 div.sk-label label {font-family: monospace;font-weight: bold;display: inline-block;line-height: 1.2em;}#sk-container-id-3 div.sk-label-container {text-align: center;}#sk-container-id-3 div.sk-container {/* jupyter's `normalize.less` sets `[hidden] { display: none; }` but bootstrap.min.css set `[hidden] { display: none !important; }` so we also need the `!important` here to be able to override the default hidden behavior on the sphinx rendered scikit-learn.org. See: https://github.com/scikit-learn/scikit-learn/issues/21755 */display: inline-block !important;position: relative;}#sk-container-id-3 div.sk-text-repr-fallback {display: none;}</style><div id=\"sk-container-id-3\" class=\"sk-top-container\"><div class=\"sk-text-repr-fallback\"><pre>DecisionTreeRegressor()</pre><b>In a Jupyter environment, please rerun this cell to show the HTML representation or trust the notebook. <br />On GitHub, the HTML representation is unable to render, please try loading this page with nbviewer.org.</b></div><div class=\"sk-container\" hidden><div class=\"sk-item\"><div class=\"sk-estimator sk-toggleable\"><input class=\"sk-toggleable__control sk-hidden--visually\" id=\"sk-estimator-id-3\" type=\"checkbox\" checked><label for=\"sk-estimator-id-3\" class=\"sk-toggleable__label sk-toggleable__label-arrow\">DecisionTreeRegressor</label><div class=\"sk-toggleable__content\"><pre>DecisionTreeRegressor()</pre></div></div></div></div></div>"
      ],
      "text/plain": [
       "DecisionTreeRegressor()"
      ]
     },
     "execution_count": 88,
     "metadata": {},
     "output_type": "execute_result"
    }
   ],
   "source": [
    "model = DecisionTreeRegressor()\n",
    "model.fit(X_train_scaled, y_train)"
   ]
  },
  {
   "cell_type": "code",
   "execution_count": 89,
   "id": "e45e3cc8",
   "metadata": {},
   "outputs": [
    {
     "data": {
      "text/plain": [
       "1118.4489854531105"
      ]
     },
     "execution_count": 89,
     "metadata": {},
     "output_type": "execute_result"
    }
   ],
   "source": [
    "y_pred = model.predict(X_test_scaled)\n",
    "mse = mean_squared_error(y_test, y_pred)\n",
    "mse"
   ]
  },
  {
   "cell_type": "code",
   "execution_count": 90,
   "id": "8b85294b",
   "metadata": {},
   "outputs": [
    {
     "data": {
      "text/plain": [
       "6.6773767303876514"
      ]
     },
     "execution_count": 90,
     "metadata": {},
     "output_type": "execute_result"
    }
   ],
   "source": [
    "r2= r2_score(y_test, y_pred)*100\n",
    "r2"
   ]
  },
  {
   "cell_type": "code",
   "execution_count": null,
   "id": "45694825",
   "metadata": {},
   "outputs": [],
   "source": []
  }
 ],
 "metadata": {
  "kernelspec": {
   "display_name": "Python 3 (ipykernel)",
   "language": "python",
   "name": "python3"
  },
  "language_info": {
   "codemirror_mode": {
    "name": "ipython",
    "version": 3
   },
   "file_extension": ".py",
   "mimetype": "text/x-python",
   "name": "python",
   "nbconvert_exporter": "python",
   "pygments_lexer": "ipython3",
   "version": "3.10.9"
  }
 },
 "nbformat": 4,
 "nbformat_minor": 5
}
